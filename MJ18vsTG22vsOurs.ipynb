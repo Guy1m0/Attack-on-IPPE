{
 "cells": [
  {
   "cell_type": "code",
   "execution_count": 1,
   "metadata": {},
   "outputs": [
    {
     "name": "stderr",
     "output_type": "stream",
     "text": [
      "/home/guy1m0/.local/lib/python3.10/site-packages/matplotlib/projections/__init__.py:63: UserWarning: Unable to import Axes3D. This may be due to multiple versions of Matplotlib being installed (e.g. as a system package and as a pip package). As a result, the 3D projection is not available.\n",
      "  warnings.warn(\"Unable to import Axes3D. This may be due to multiple versions of \"\n"
     ]
    }
   ],
   "source": [
    "from charm.toolbox.pairinggroup import PairingGroup, ZR, G1, G2, GT, pair\n",
    "from charm.toolbox.ABEnc import ABEnc\n",
    "from abenc_tg22 import DIPE_ABE, Inner_Product_TG22\n",
    "from abenc_ph_mj18 import PH_ABE, mat_math, Inner_Product\n",
    "from nizk import NIZK\n",
    "from attack import RogueKeyAtt\n",
    "from collections import defaultdict \n",
    "import time\n",
    "group_tg = PairingGroup('SS512')\n",
    "group_mj = PairingGroup('MNT159')\n",
    "assump_size = 2\n"
   ]
  },
  {
   "cell_type": "code",
   "execution_count": 4,
   "metadata": {},
   "outputs": [],
   "source": [
    "n = 10\n",
    "dipe = DIPE_ABE(n, group_tg)\n",
    "ph_abe = PH_ABE(n, assump_size, group_mj, mat_math())"
   ]
  },
  {
   "cell_type": "code",
   "execution_count": 5,
   "metadata": {},
   "outputs": [
    {
     "name": "stdout",
     "output_type": "stream",
     "text": [
      "vec_x: [150998204040660707077795026364683406150131088534, 201934653701749629896535007478395927196043028086, 189298739501222067770590463315412708008233890265, 720043796071671695857334619612624994435778834549, 478626127974935297319963634805083748606453509702, 202495819437897932526060920400896418572579413302, 262800022846128988203509526595193207521090334846, 325650160003463061856765096121660098315596146213, 391155751084077104935922687592069096817999992971]\n",
      "vec_y: [1, 1, 1, 1, 1, 1, 1, 1, 1]\n",
      "check x,y: 0\n",
      "Elapsed: 0.2512969970703125\n"
     ]
    }
   ],
   "source": [
    "start_time = time.time()\n",
    "\n",
    "attributes = Inner_Product_TG22(group_tg)\n",
    "vec_x,vec_y = attributes.gen_x_y(n)\n",
    "\n",
    "print ('vec_x:', vec_x)\n",
    "print ('vec_y:', vec_y)\n",
    "print ('check x,y:', sum([x*y for x,y in zip(vec_x,vec_y)]))\n",
    "\n",
    "pp = dipe.setup()\n",
    "pks, sks = dipe.auth_setup(pp)\n",
    "\n",
    "GID = group_tg.random(ZR)\n",
    "M = group_tg.random(GT)\n",
    "\n",
    "D0, D1, K = dipe.keygen(pp, sks, GID, vec_x)\n",
    "C = dipe.encrypt(pp, pks, vec_y, M)\n",
    "M_ = dipe.decrypt(D0, D1, K, C, vec_y)\n",
    "elapsed_time = time.time() - start_time\n",
    "if M_ == M:\n",
    "    print ('Elapsed:', elapsed_time)\n",
    "else:\n",
    "    print ('M:',M)\n",
    "    print ('M_',M_)"
   ]
  },
  {
   "cell_type": "code",
   "execution_count": 6,
   "metadata": {},
   "outputs": [
    {
     "name": "stdout",
     "output_type": "stream",
     "text": [
      "Elapsed: 0.5226294994354248\n"
     ]
    }
   ],
   "source": [
    "attributes = Inner_Product(group_mj)   \n",
    "nizk = NIZK(group_mj)\n",
    "att = RogueKeyAtt(n, assump_size)\n",
    "\n",
    "# sys setup\n",
    "start_time = time.time()\n",
    "pp, msk = ph_abe.setup()\n",
    "\n",
    "# Auth setup\n",
    "pks, sks = ph_abe.auth_setup(pp)\n",
    "\n",
    "# Key Gen\n",
    "GID = group_mj.random(ZR)\n",
    "\n",
    "vec_x, vec_v = attributes.gen_x_v(n, assump_size)\n",
    "K, _ = ph_abe.keygen(pp, pks, sks, GID, vec_v)\n",
    "\n",
    "# Encryption\n",
    "# start_time = time.time()\n",
    "M = group_mj.random(GT)\n",
    "#print ('M:', M)\n",
    "C, vec_s = ph_abe.encrypt(pp, pks, vec_x, M)\n",
    "\n",
    "# Decryption\n",
    "# start_time = time.time()\n",
    "M_ = ph_abe.decrypt(K, C, vec_v, pp)\n",
    "\n",
    "elapsed_time = time.time() - start_time\n",
    "if M_ == M:\n",
    "    print ('Elapsed:', elapsed_time)\n",
    "else:\n",
    "    print ('M:',M)\n",
    "    print ('M_',M_)\n",
    "\n"
   ]
  },
  {
   "cell_type": "code",
   "execution_count": null,
   "metadata": {},
   "outputs": [],
   "source": []
  },
  {
   "cell_type": "code",
   "execution_count": null,
   "metadata": {},
   "outputs": [],
   "source": []
  },
  {
   "cell_type": "code",
   "execution_count": null,
   "metadata": {},
   "outputs": [],
   "source": []
  },
  {
   "cell_type": "code",
   "execution_count": 68,
   "metadata": {},
   "outputs": [
    {
     "name": "stdout",
     "output_type": "stream",
     "text": [
      "AA's extra cost:  0.11915111541748047\n",
      "Original Sys cost:  0.46268200874328613\n",
      "Enhanced Sys cost:  0.629896879196167\n"
     ]
    }
   ],
   "source": [
    "attributes = Inner_Product(group_mj)   \n",
    "nizk = NIZK(group_mj)\n",
    "att = RogueKeyAtt(n, assump_size)\n",
    "data = {}\n",
    "data['total']  = 0\n",
    "\n",
    "# sys setup\n",
    "start_time = time.time()\n",
    "pp, msk = ph_abe.setup()\n",
    "elapsed_time = time.time() - start_time\n",
    "# data['sys'] = elapsed_time\n",
    "data['total'] += elapsed_time\n",
    "\n",
    "# Auth setup\n",
    "start_time = time.time()\n",
    "pks, sks = ph_abe.auth_setup(pp)\n",
    "elapsed_time = time.time() - start_time\n",
    "# data['auth'] = elapsed_time\n",
    "data['total'] += elapsed_time\n",
    "\n",
    "# Key Gen\n",
    "start_time = time.time()\n",
    "GID = group_mj.random(ZR)\n",
    "\n",
    "vec_x, vec_v = attributes.gen_x_v(n, assump_size)\n",
    "K, _ = ph_abe.keygen(pp, pks, sks, GID, vec_v)\n",
    "elapsed_time = time.time() - start_time\n",
    "# data['keygen'] = elapsed_time\n",
    "data['total'] += elapsed_time\n",
    "\n",
    "# print (\"AA's cost: \", data['auth']/n + elapsed_time/n)\n",
    "\n",
    "# Worst Case\n",
    "start_time = time.time()\n",
    "for i in range(n):\n",
    "    s_pairs, pis = nizk.prove_pk(pp, pks[str(i+1)], sks[str(i+1)])\n",
    "elapsed_time = time.time() - start_time\n",
    "data['prove'] = elapsed_time\n",
    "#print (\"Each cost of proving: \", elapsed_time/n)\n",
    "\n",
    "start_time = time.time()\n",
    "for i in range(n):\n",
    "    check = nizk.verify_pk(pp, s_pairs, pis)\n",
    "    if not check:\n",
    "        print (\"Check not pass for AA:\", str(i+1))\n",
    "        break\n",
    "tmp = time.time()\n",
    "print (\"AA's extra cost: \", elapsed_time/n + tmp - start_time)\n",
    "elapsed_time = tmp - start_time\n",
    "data['verify'] = elapsed_time\n",
    "#print (\"Verification time: \", elapsed_time)\n",
    "\n",
    "\n",
    "#print (\"user key_gen: \", elapsed_time)\n",
    "\n",
    "# AD's setup\n",
    "# start_time = time.time()\n",
    "ad = vec_v.index(0) + 1\n",
    "#print (\"AD:\", ad)\n",
    "ad_vec_v = [0] * (n-1) + [1]\n",
    "pks = att.pks_update(ad, pks)\n",
    "# elapsed_time = time.time() - start_time\n",
    "# data['ad_setup'] = elapsed_time\n",
    "#print (\"Adv's setup: \", elapsed_time)\n",
    "\n",
    "# AD KeyGen\n",
    "#start_time = time.time()\n",
    "GID_ad = group_mj.random(ZR)\n",
    "K_,ad_key_gen = ph_abe.keygen(pp, pks, sks, GID_ad, ad_vec_v, ad=ad)\n",
    "#print (\"For ad with index: \", ad, \"takes :\", ad_key_gen)\n",
    "\n",
    "#elapsed_time = time.time() - start_time\n",
    "data['ad_keygen'] = ad_key_gen\n",
    "#print (\"Ad's cost: \", data['ad_setup'] + )\n",
    "\n",
    "# Encryption\n",
    "# start_time = time.time()\n",
    "M = group_mj.random(GT)\n",
    "#print ('M:', M)\n",
    "C, vec_s = ph_abe.encrypt(pp, pks, vec_x, M)\n",
    "# elapsed_time = time.time() - start_time\n",
    "# print (\"DO's cost: \", elapsed_time)\n",
    "# data['encrypt'] = elapsed_time\n",
    "data['total'] += elapsed_time\n",
    "\n",
    "# Decryption\n",
    "# start_time = time.time()\n",
    "M_ = ph_abe.decrypt(K, C, vec_v, pp)\n",
    "if M_ != M:\n",
    "    print ('Error in decrypt M (usr): ', M_)\n",
    "# elapsed_time = time.time() - start_time\n",
    "# print (\"DU's cost: \", elapsed_time)\n",
    "# data['decrypt'] = elapsed_time\n",
    "data['total'] += elapsed_time\n",
    "\n",
    "# AD decrypt\n",
    "tmp = ph_abe.decrypt(K_, C, ad_vec_v, pp)\n",
    "\n",
    "# start_time = time.time()\n",
    "omega = att.gen_omega(K_,C)\n",
    "M_ =  tmp * mat_math().prod(omega)\n",
    "if M_ != M:\n",
    "    print ('Error in decrypt M (adv): ', M_)\n",
    "# elapsed_time = time.time() - start_time\n",
    "# data['ad_cancel_out'] = elapsed_time\n",
    "# print (\"Ad's cost: \", data['ad_setup'] + data['ad_keygen'] + data['ad_cancel_out'])\n",
    "\n",
    "print (\"Original Sys cost: \", data['total'])\n",
    "print (\"Enhanced Sys cost: \", data['total'] + data['prove'] + data['verify'])\n"
   ]
  },
  {
   "cell_type": "code",
   "execution_count": 64,
   "metadata": {},
   "outputs": [
    {
     "data": {
      "text/plain": [
       "72875351977953222903237743599457076121983599353"
      ]
     },
     "execution_count": 64,
     "metadata": {},
     "output_type": "execute_result"
    }
   ],
   "source": [
    "group_mj.random(ZR)"
   ]
  },
  {
   "cell_type": "code",
   "execution_count": 65,
   "metadata": {},
   "outputs": [
    {
     "data": {
      "text/plain": [
       "111346151623188425218217829626386290813257792045"
      ]
     },
     "execution_count": 65,
     "metadata": {},
     "output_type": "execute_result"
    }
   ],
   "source": [
    "group_tg.random(ZR)"
   ]
  },
  {
   "cell_type": "code",
   "execution_count": 14,
   "metadata": {},
   "outputs": [],
   "source": []
  },
  {
   "cell_type": "code",
   "execution_count": 15,
   "metadata": {},
   "outputs": [
    {
     "data": {
      "text/plain": [
       "True"
      ]
     },
     "execution_count": 15,
     "metadata": {},
     "output_type": "execute_result"
    }
   ],
   "source": []
  },
  {
   "cell_type": "code",
   "execution_count": null,
   "metadata": {},
   "outputs": [],
   "source": []
  }
 ],
 "metadata": {
  "kernelspec": {
   "display_name": "Python 3",
   "language": "python",
   "name": "python3"
  },
  "language_info": {
   "codemirror_mode": {
    "name": "ipython",
    "version": 3
   },
   "file_extension": ".py",
   "mimetype": "text/x-python",
   "name": "python",
   "nbconvert_exporter": "python",
   "pygments_lexer": "ipython3",
   "version": "3.10.12"
  }
 },
 "nbformat": 4,
 "nbformat_minor": 2
}
