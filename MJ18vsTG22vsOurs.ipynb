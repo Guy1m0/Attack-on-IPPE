{
 "cells": [
  {
   "cell_type": "code",
   "execution_count": 5,
   "metadata": {},
   "outputs": [],
   "source": [
    "from charm.toolbox.pairinggroup import PairingGroup, ZR, G1, G2, GT, pair\n",
    "from charm.toolbox.ABEnc import ABEnc\n",
    "from abenc_tg22 import DIPE_ABE, Inner_Product_TG22\n",
    "from abenc_ph_mj18 import PH_ABE, mat_math, Inner_Product\n",
    "from nizk import NIZK\n",
    "from attack import RogueKeyAtt\n",
    "from collections import defaultdict \n",
    "import time\n",
    "group_tg = PairingGroup('SS512')\n",
    "group_mj = PairingGroup('MNT159')\n",
    "assump_size = 1\n"
   ]
  },
  {
   "cell_type": "code",
   "execution_count": 18,
   "metadata": {},
   "outputs": [],
   "source": [
    "n = 100\n",
    "dipe = DIPE_ABE(n, group_tg)\n",
    "ph_abe = PH_ABE(n, assump_size, group_mj, mat_math())"
   ]
  },
  {
   "cell_type": "code",
   "execution_count": 19,
   "metadata": {},
   "outputs": [
    {
     "name": "stdout",
     "output_type": "stream",
     "text": [
      "vec_x: [106436276235164620530720782015047389413033974994, 154277360762216480041949332050931961473461488508, 722234222966892089577493391632743489080852990718, 682260669991009734613867240522037390755126843839, 69799387248321785872951635131982037225819800289, 386554556717236556144663976300642820748923415301, 375140990954106653949857395378176643303443994696, 692952834443338702306540013236478692205897763410, 423866483825545433324238424312159543884490890123, 63905287764489277794358869499467227484234292633, 287737579344500492273189825126164922342501968958, 455793369337796346754272668576913483395183502042, 188081317668109081538109305112651576597549188077, 25166199786059636896931935154473087780577110827, 475018150512801343277273422774476040778157920191, 709772385037777196808413077414347745887050305584, 255502550243992349968900730641069588507955794685, 18143566274478253862945693864991888795779821085, 144766157345079590789328430411596894429866702347, 531531819241447831598997287098580893823906096039, 364425821977118061112018054080897728753454348682, 124260473007774182027736973965398644521775314983, 186421059060694869178810265004292650894602849718, 47494289779477259914320602359233869141485386512, 629160983366834666086887819087702832496384608756, 726744530709369895514623783956898098968095484832, 464305000801340533543874230135071550219639673756, 426733508725893327171133864274157617586178324734, 708692793811322392410104895799489890379278629189, 133152519835930878744764020570294499181365375388, 249743050911645861192856358785069822401560804194, 530600886673784058564039306756846390706060208302, 57890559418147465783348979337213517085855768807, 57688964987023990064865048280839435456681565374, 410121006672796117979374019497332118132728375163, 590909907815892962116198140990162432651311968719, 2310223195603135376131837869563460530972455734, 346465814018651597362477290033885892754495665211, 641368465067938885158923775770679094468066060117, 223473864169760935321604960677214395929865889846, 403922905181460386493175663288435049355008297722, 304260768562366324552867837575400710450984111942, 303505366519067365387378369841543432587410019784, 230215836293108056288174215980398215652614245696, 205149114685028950827451079309147505786686955131, 51742600320944696971388920287375646068132129468, 251179797351079316542474632544252794641969412088, 238248914306045382182686134594082668925895329164, 691795284803994872026011888482005743302320232088, 511479968199438884985009341607503469024914944703, 639185764157133766307498655574407778634918995972, 459803458352782069179202147862158716446231018839, 443202646754352892171471147055117515853916254626, 314858909974347103907676310467686719775235417011, 394999507225287028664821299749204702628413602102, 325481987050968460099903567171528730119718655211, 373718407919232079125559965143687713080097235335, 237383122551729384685447506051926070084598926237, 68384305247767353153641355715758471180071352410, 605752576495000093169352889210259752992381175420, 336822242705041828497908039124079484593917935556, 198231205642930103990096573218563483937941697843, 493208040117143291213343101125197764066705396036, 220965349993076823512456832183894719164276444897, 306798519397213155936319124782801229616372109685, 530034350960517277724070461341347600660940926956, 434660556964161273227999741828820710629642545551, 338521343684856472013490226366547850965589132625, 448151675691502736780621310253908235343877987838, 226197021035416807437837236638704543140172713201, 411674213163855333251387294681566619544767627994, 159919792587448582057072288836906233979569626322, 345236846207968728634801321183816034609081536274, 256603774159585752752908230009337832006952437618, 334149017226605737093854477397288447317963374836, 533096335924517327790803587614460057453880599066, 554531060875092424616488955228471264831944115560, 76601438139787507915752302118105662024881981916, 416916354238964272259175363112600986951324407844, 506720459470912116529114914737448624070418562781, 631542142940893177748926603264136259002543203890, 294767492126287273281765238220551390910365124490, 331793526518431827088493981657275238733515103449, 359569552034314055637440681988338071237144673702, 600051383979333036187180982614010774555430900440, 429156514742864516148692741382359088082848596712, 14836616659814872258344352473106362091723480844, 134256032200036397659446226538123415814266039656, 713245460933074209930774823536876037543487240550, 100989116820495628575521720060657970435006568306, 278296897310710112647010751607072276435361090253, 623207399139975509041231260810416142774114244569, 481437615681437302366047162718311833035972409917, 663599131227218481249220882124800631952372096613, 373229700369942219885487776053928214139562291880, 181354591478375220583877555526204382048483408096, 724490752871284798401384070558199200187253604597, 326638827429410430828981164258175376199501802987, 537506828215310128236278981581903703774001789562]\n",
      "vec_y: [0, 1, 0, 1, 1, 1, 0, 1, 1, 0, 0, 1, 0, 1, 0, 0, 1, 1, 1, 1, 1, 1, 1, 1, 1, 1, 0, 1, 1, 0, 1, 0, 1, 0, 0, 0, 0, 1, 1, 1, 0, 1, 0, 1, 1, 0, 0, 0, 0, 1, 1, 0, 1, 0, 1, 0, 0, 0, 0, 1, 1, 1, 0, 0, 0, 1, 1, 1, 1, 0, 1, 1, 1, 1, 0, 1, 1, 0, 1, 1, 1, 1, 1, 1, 1, 1, 1, 1, 1, 1, 1, 0, 1, 0, 1, 0, 1, 0, 1]\n",
      "check x,y: 0\n",
      "Elapsed: 21.559672832489014\n"
     ]
    }
   ],
   "source": [
    "start_time = time.time()\n",
    "\n",
    "attributes = Inner_Product_TG22(group_tg)\n",
    "vec_x,vec_y = attributes.gen_x_y(n)\n",
    "\n",
    "print ('vec_x:', vec_x)\n",
    "print ('vec_y:', vec_y)\n",
    "print ('check x,y:', sum([x*y for x,y in zip(vec_x,vec_y)]))\n",
    "\n",
    "pp = dipe.setup()\n",
    "pks, sks = dipe.auth_setup(pp)\n",
    "\n",
    "GID = group_tg.random(ZR)\n",
    "M = group_tg.random(GT)\n",
    "\n",
    "D0, D1, K = dipe.keygen(pp, sks, GID, vec_x)\n",
    "C = dipe.encrypt(pp, pks, vec_y, M)\n",
    "M_ = dipe.decrypt(D0, D1, K, C, vec_y)\n",
    "elapsed_time = time.time() - start_time\n",
    "if M_ == M:\n",
    "    print ('Elapsed:', elapsed_time)\n",
    "else:\n",
    "    print ('M:',M)\n",
    "    print ('M_',M_)"
   ]
  },
  {
   "cell_type": "code",
   "execution_count": 20,
   "metadata": {},
   "outputs": [
    {
     "name": "stdout",
     "output_type": "stream",
     "text": [
      "Elapsed: 27.568472385406494\n"
     ]
    }
   ],
   "source": [
    "attributes = Inner_Product(group_mj)   \n",
    "nizk = NIZK(group_mj)\n",
    "att = RogueKeyAtt(n, assump_size)\n",
    "\n",
    "# sys setup\n",
    "start_time = time.time()\n",
    "pp, msk = ph_abe.setup()\n",
    "\n",
    "# Auth setup\n",
    "pks, sks = ph_abe.auth_setup(pp)\n",
    "\n",
    "# Key Gen\n",
    "GID = group_mj.random(ZR)\n",
    "\n",
    "vec_x, vec_v = attributes.gen_x_v(n, assump_size)\n",
    "K, _ = ph_abe.keygen(pp, pks, sks, GID, vec_v)\n",
    "\n",
    "# Encryption\n",
    "# start_time = time.time()\n",
    "M = group_mj.random(GT)\n",
    "#print ('M:', M)\n",
    "C, vec_s = ph_abe.encrypt(pp, pks, vec_x, M)\n",
    "\n",
    "# Decryption\n",
    "# start_time = time.time()\n",
    "M_ = ph_abe.decrypt(K, C, vec_v, pp)\n",
    "\n",
    "elapsed_time = time.time() - start_time\n",
    "if M_ == M:\n",
    "    print ('Elapsed:', elapsed_time)\n",
    "else:\n",
    "    print ('M:',M)\n",
    "    print ('M_',M_)\n",
    "\n"
   ]
  },
  {
   "cell_type": "code",
   "execution_count": null,
   "metadata": {},
   "outputs": [],
   "source": []
  },
  {
   "cell_type": "code",
   "execution_count": null,
   "metadata": {},
   "outputs": [],
   "source": []
  },
  {
   "cell_type": "code",
   "execution_count": null,
   "metadata": {},
   "outputs": [],
   "source": []
  },
  {
   "cell_type": "code",
   "execution_count": 68,
   "metadata": {},
   "outputs": [
    {
     "name": "stdout",
     "output_type": "stream",
     "text": [
      "AA's extra cost:  0.11915111541748047\n",
      "Original Sys cost:  0.46268200874328613\n",
      "Enhanced Sys cost:  0.629896879196167\n"
     ]
    }
   ],
   "source": [
    "attributes = Inner_Product(group_mj)   \n",
    "nizk = NIZK(group_mj)\n",
    "att = RogueKeyAtt(n, assump_size)\n",
    "data = {}\n",
    "data['total']  = 0\n",
    "\n",
    "# sys setup\n",
    "start_time = time.time()\n",
    "pp, msk = ph_abe.setup()\n",
    "elapsed_time = time.time() - start_time\n",
    "# data['sys'] = elapsed_time\n",
    "data['total'] += elapsed_time\n",
    "\n",
    "# Auth setup\n",
    "start_time = time.time()\n",
    "pks, sks = ph_abe.auth_setup(pp)\n",
    "elapsed_time = time.time() - start_time\n",
    "# data['auth'] = elapsed_time\n",
    "data['total'] += elapsed_time\n",
    "\n",
    "# Key Gen\n",
    "start_time = time.time()\n",
    "GID = group_mj.random(ZR)\n",
    "\n",
    "vec_x, vec_v = attributes.gen_x_v(n, assump_size)\n",
    "K, _ = ph_abe.keygen(pp, pks, sks, GID, vec_v)\n",
    "elapsed_time = time.time() - start_time\n",
    "# data['keygen'] = elapsed_time\n",
    "data['total'] += elapsed_time\n",
    "\n",
    "# print (\"AA's cost: \", data['auth']/n + elapsed_time/n)\n",
    "\n",
    "# Worst Case\n",
    "start_time = time.time()\n",
    "for i in range(n):\n",
    "    s_pairs, pis = nizk.prove_pk(pp, pks[str(i+1)], sks[str(i+1)])\n",
    "elapsed_time = time.time() - start_time\n",
    "data['prove'] = elapsed_time\n",
    "#print (\"Each cost of proving: \", elapsed_time/n)\n",
    "\n",
    "start_time = time.time()\n",
    "for i in range(n):\n",
    "    check = nizk.verify_pk(pp, s_pairs, pis)\n",
    "    if not check:\n",
    "        print (\"Check not pass for AA:\", str(i+1))\n",
    "        break\n",
    "tmp = time.time()\n",
    "print (\"AA's extra cost: \", elapsed_time/n + tmp - start_time)\n",
    "elapsed_time = tmp - start_time\n",
    "data['verify'] = elapsed_time\n",
    "#print (\"Verification time: \", elapsed_time)\n",
    "\n",
    "\n",
    "#print (\"user key_gen: \", elapsed_time)\n",
    "\n",
    "# AD's setup\n",
    "# start_time = time.time()\n",
    "ad = vec_v.index(0) + 1\n",
    "#print (\"AD:\", ad)\n",
    "ad_vec_v = [0] * (n-1) + [1]\n",
    "pks = att.pks_update(ad, pks)\n",
    "# elapsed_time = time.time() - start_time\n",
    "# data['ad_setup'] = elapsed_time\n",
    "#print (\"Adv's setup: \", elapsed_time)\n",
    "\n",
    "# AD KeyGen\n",
    "#start_time = time.time()\n",
    "GID_ad = group_mj.random(ZR)\n",
    "K_,ad_key_gen = ph_abe.keygen(pp, pks, sks, GID_ad, ad_vec_v, ad=ad)\n",
    "#print (\"For ad with index: \", ad, \"takes :\", ad_key_gen)\n",
    "\n",
    "#elapsed_time = time.time() - start_time\n",
    "data['ad_keygen'] = ad_key_gen\n",
    "#print (\"Ad's cost: \", data['ad_setup'] + )\n",
    "\n",
    "# Encryption\n",
    "# start_time = time.time()\n",
    "M = group_mj.random(GT)\n",
    "#print ('M:', M)\n",
    "C, vec_s = ph_abe.encrypt(pp, pks, vec_x, M)\n",
    "# elapsed_time = time.time() - start_time\n",
    "# print (\"DO's cost: \", elapsed_time)\n",
    "# data['encrypt'] = elapsed_time\n",
    "data['total'] += elapsed_time\n",
    "\n",
    "# Decryption\n",
    "# start_time = time.time()\n",
    "M_ = ph_abe.decrypt(K, C, vec_v, pp)\n",
    "if M_ != M:\n",
    "    print ('Error in decrypt M (usr): ', M_)\n",
    "# elapsed_time = time.time() - start_time\n",
    "# print (\"DU's cost: \", elapsed_time)\n",
    "# data['decrypt'] = elapsed_time\n",
    "data['total'] += elapsed_time\n",
    "\n",
    "# AD decrypt\n",
    "tmp = ph_abe.decrypt(K_, C, ad_vec_v, pp)\n",
    "\n",
    "# start_time = time.time()\n",
    "omega = att.gen_omega(K_,C)\n",
    "M_ =  tmp * mat_math().prod(omega)\n",
    "if M_ != M:\n",
    "    print ('Error in decrypt M (adv): ', M_)\n",
    "# elapsed_time = time.time() - start_time\n",
    "# data['ad_cancel_out'] = elapsed_time\n",
    "# print (\"Ad's cost: \", data['ad_setup'] + data['ad_keygen'] + data['ad_cancel_out'])\n",
    "\n",
    "print (\"Original Sys cost: \", data['total'])\n",
    "print (\"Enhanced Sys cost: \", data['total'] + data['prove'] + data['verify'])\n"
   ]
  },
  {
   "cell_type": "code",
   "execution_count": 64,
   "metadata": {},
   "outputs": [
    {
     "data": {
      "text/plain": [
       "72875351977953222903237743599457076121983599353"
      ]
     },
     "execution_count": 64,
     "metadata": {},
     "output_type": "execute_result"
    }
   ],
   "source": [
    "group_mj.random(ZR)"
   ]
  },
  {
   "cell_type": "code",
   "execution_count": 65,
   "metadata": {},
   "outputs": [
    {
     "data": {
      "text/plain": [
       "111346151623188425218217829626386290813257792045"
      ]
     },
     "execution_count": 65,
     "metadata": {},
     "output_type": "execute_result"
    }
   ],
   "source": [
    "group_tg.random(ZR)"
   ]
  },
  {
   "cell_type": "code",
   "execution_count": 14,
   "metadata": {},
   "outputs": [],
   "source": []
  },
  {
   "cell_type": "code",
   "execution_count": 15,
   "metadata": {},
   "outputs": [
    {
     "data": {
      "text/plain": [
       "True"
      ]
     },
     "execution_count": 15,
     "metadata": {},
     "output_type": "execute_result"
    }
   ],
   "source": []
  },
  {
   "cell_type": "code",
   "execution_count": null,
   "metadata": {},
   "outputs": [],
   "source": []
  }
 ],
 "metadata": {
  "kernelspec": {
   "display_name": "Python 3",
   "language": "python",
   "name": "python3"
  },
  "language_info": {
   "codemirror_mode": {
    "name": "ipython",
    "version": 3
   },
   "file_extension": ".py",
   "mimetype": "text/x-python",
   "name": "python",
   "nbconvert_exporter": "python",
   "pygments_lexer": "ipython3",
   "version": "3.10.12"
  }
 },
 "nbformat": 4,
 "nbformat_minor": 2
}
