{
 "cells": [
  {
   "cell_type": "code",
   "execution_count": 70,
   "metadata": {},
   "outputs": [],
   "source": [
    "from abenc_ph_mj18 import PH_ABE, mat_math, Inner_Product\n",
    "from charm.toolbox.pairinggroup import PairingGroup, ZR, G1, G2, GT, pair\n",
    "from charm.toolbox.ABEnc import ABEnc\n",
    "\n",
    "import numpy as np"
   ]
  },
  {
   "cell_type": "code",
   "execution_count": 2,
   "metadata": {},
   "outputs": [],
   "source": [
    "def ad_auth_setup(n, assump_size, ad, pks):\n",
    "\n",
    "    pk_ad = []\n",
    "    k = assump_size\n",
    "    pk_ad = [[1] * k] * (k+1)\n",
    "\n",
    "    for i in range(n-1):\n",
    "        if i + 1 == ad:\n",
    "            continue\n",
    "\n",
    "        g_XTA = pks[str(i+1)]['g_1^{X^T A}']\n",
    "\n",
    "        tmp = []\n",
    "        for j in range(len(g_XTA)):\n",
    "            tmp.append([x / y for x,y in zip(pk_ad[j], g_XTA[j])])\n",
    "        \n",
    "        pk_ad = tmp\n",
    "\n",
    "    pk = pks[str(ad)]\n",
    "    pk['g_1^{X^T A}'] = pk_ad\n",
    "    \n",
    "    pks[str(ad)] = pk\n",
    "\n",
    "    return pks\n",
    "    "
   ]
  },
  {
   "cell_type": "code",
   "execution_count": 3,
   "metadata": {},
   "outputs": [],
   "source": [
    "def gen_omega(K, C, n, assump_size):\n",
    "    H = K['g_2^h']\n",
    "    k = assump_size\n",
    "    C_i_s = C['C_i']\n",
    "\n",
    "    C_ = [1] * (k + 1)\n",
    "    #C_  = tmp\n",
    "    for i in range(n-1):\n",
    "        #print (len(C_), len(C_i_s[i]))\n",
    "        C_ = [x / y for x,y in zip(C_, C_i_s[i])]\n",
    "\n",
    "        #print (len(C_))\n",
    "\n",
    "    return [pair(x,y) for x,y in zip(C_, H)]"
   ]
  },
  {
   "cell_type": "code",
   "execution_count": 4,
   "metadata": {},
   "outputs": [],
   "source": [
    "n = 10\n",
    "assump_size = 3\n",
    "group = PairingGroup('MNT224')\n",
    "math_lib = mat_math()\n",
    "\n",
    "ph_abe = PH_ABE(n, assump_size, group, math_lib)\n",
    "\n",
    "pp, msk = ph_abe.setup()\n",
    "attributes = Inner_Product(group)\n",
    "vec_x, vec_v = attributes.gen_x_v(n, assump_size)\n",
    "\n",
    "pks, sks = ph_abe.auth_setup(pp)"
   ]
  },
  {
   "cell_type": "code",
   "execution_count": 5,
   "metadata": {},
   "outputs": [
    {
     "name": "stdout",
     "output_type": "stream",
     "text": [
      "Authorized list:  [0, 1, 0, 0, 0, 0, 0, 1, 1, 1]\n",
      "Adversary: 1 \n",
      "Vector belongs to AD: [0, 0, 0, 0, 0, 0, 0, 0, 0, 1]\n"
     ]
    }
   ],
   "source": [
    "ad = vec_v.index(0) + 1\n",
    "ad_vec_v = [0] * (n-1) + [1]\n",
    "print ('Authorized list: ', vec_v)\n",
    "print ('Adversary:', ad, '\\nVector belongs to AD:', ad_vec_v)\n",
    "pks = ad_auth_setup(n, assump_size, ad, pks)"
   ]
  },
  {
   "cell_type": "code",
   "execution_count": 6,
   "metadata": {},
   "outputs": [
    {
     "name": "stdout",
     "output_type": "stream",
     "text": [
      "M:  [[12496240513970329899101315634405879180464871543696526339821281942514, 7749078562901691341705398472817557017294869198462919018197082321223, 9131301025140182153847485277206680950876510511835747644465852868307], [1102527342141278182746151774926530683988292895672178384278563916987, 567525811742396280087107299731217198741253093157616500567522709452, 4473149641324499460343513315294805417697194562625487924549813912864]]\n"
     ]
    }
   ],
   "source": [
    "M = group.random(GT)\n",
    "print ('M: ', M)\n",
    "\n",
    "C, vec_s = ph_abe.encrypt(pp, pks, vec_x, M)"
   ]
  },
  {
   "cell_type": "code",
   "execution_count": 7,
   "metadata": {},
   "outputs": [
    {
     "name": "stdout",
     "output_type": "stream",
     "text": [
      "M_ (Usr): [[12496240513970329899101315634405879180464871543696526339821281942514, 7749078562901691341705398472817557017294869198462919018197082321223, 9131301025140182153847485277206680950876510511835747644465852868307], [1102527342141278182746151774926530683988292895672178384278563916987, 567525811742396280087107299731217198741253093157616500567522709452, 4473149641324499460343513315294805417697194562625487924549813912864]]\n"
     ]
    }
   ],
   "source": [
    "K = ph_abe.keygen(pp, sks, vec_v)\n",
    "print ('M_ (Usr):', ph_abe.decrypt(K, C, vec_v,pp))"
   ]
  },
  {
   "cell_type": "code",
   "execution_count": 8,
   "metadata": {},
   "outputs": [
    {
     "name": "stdout",
     "output_type": "stream",
     "text": [
      "M_ (Adv): [[12496240513970329899101315634405879180464871543696526339821281942514, 7749078562901691341705398472817557017294869198462919018197082321223, 9131301025140182153847485277206680950876510511835747644465852868307], [1102527342141278182746151774926530683988292895672178384278563916987, 567525811742396280087107299731217198741253093157616500567522709452, 4473149641324499460343513315294805417697194562625487924549813912864]]\n"
     ]
    }
   ],
   "source": [
    "K_ = ph_abe.keygen(pp, sks, ad_vec_v)\n",
    "omega = gen_omega(K_, C, n, assump_size)\n",
    "M_ = ph_abe.decrypt(K_, C, ad_vec_v, pp)\n",
    "print ('M_ (Adv):', M_ * math_lib.prod(omega))"
   ]
  },
  {
   "cell_type": "code",
   "execution_count": 69,
   "metadata": {},
   "outputs": [],
   "source": [
    "from nizk import NIZK, s_pair"
   ]
  },
  {
   "cell_type": "code",
   "execution_count": 66,
   "metadata": {},
   "outputs": [],
   "source": [
    "group = PairingGroup('MNT224')\n",
    "s = group.random(ZR)\n",
    "e_gh = pair(group.random(G1), group.random(G2))"
   ]
  },
  {
   "cell_type": "code",
   "execution_count": 67,
   "metadata": {},
   "outputs": [],
   "source": [
    "rps = s_pair(s, e_gh, group)\n",
    "nizk = NIZK(rps, group)\n",
    "R, u = nizk.commit(\"abd\")"
   ]
  },
  {
   "cell_type": "code",
   "execution_count": 68,
   "metadata": {},
   "outputs": [
    {
     "data": {
      "text/plain": [
       "True"
      ]
     },
     "execution_count": 68,
     "metadata": {},
     "output_type": "execute_result"
    }
   ],
   "source": [
    "nizk.verify(R, u, \"abd\")"
   ]
  },
  {
   "cell_type": "code",
   "execution_count": 74,
   "metadata": {},
   "outputs": [],
   "source": [
    "A = pp['g_1^A'] # global pp\n",
    "B = pks['1']['g_1^{X^T A}'] #pub key\n",
    "s = sks['1']['X'] # secret key"
   ]
  },
  {
   "cell_type": "code",
   "execution_count": 75,
   "metadata": {},
   "outputs": [
    {
     "data": {
      "text/plain": [
       "[[4136790388872615635855264448244061575112554119899701456354709218293,\n",
       "  14507059771504889314965984071803012873901867223125383517516932224380,\n",
       "  14693531276219950027469892541795800804837306804290869113407485552337,\n",
       "  105148006953959492227790301050667398844048146564215649538013153368],\n",
       " [12950878762097918449946196538402360015265168640355010166536457547891,\n",
       "  10655910688793224580297075758723780494050734800716826880605899153884,\n",
       "  9141297724883498502613695177605617290211858886023640856454809987613,\n",
       "  7305271810586656616434277444066052224816999907445884371778990310062],\n",
       " [9539405781429964499501248862312820024838706771777587651234123384532,\n",
       "  11189068344071654583473637776075126577721755724198405656289773606996,\n",
       "  14455150944159860650999907124036411346153619551376590545313810684389,\n",
       "  14956538391848078349964252122353216923264565649844016055877002828039],\n",
       " [5629902237214472450727865127254743554231743606890536904260478038711,\n",
       "  9226101805801668213582362863109838769057757207733879255516919503267,\n",
       "  6543406801414295443666063751443080415160536632036760847517733805885,\n",
       "  12318421872982503888634979647858142125352854734918919405540958822362]]"
      ]
     },
     "execution_count": 75,
     "metadata": {},
     "output_type": "execute_result"
    }
   ],
   "source": [
    "s"
   ]
  },
  {
   "cell_type": "code",
   "execution_count": 78,
   "metadata": {},
   "outputs": [],
   "source": [
    "def decompose(s, A, B):\n",
    "    rps = []\n",
    "    # check s, A, B same dim\n",
    "    s_ = np.array(s)\n",
    "    A_ = np.array(A)\n",
    "    B_ = np.array(B)\n",
    "\n",
    "    if s_.shape == A_.shape == B_.shape:\n",
    "\n",
    "        if s_.ndim == 1:\n",
    "            zipped = list(zip(s_, A_, B_))\n",
    "        elif s_.ndim == 2:\n",
    "            zipped = [list(zip(r1, r2, r3)) for r1, r2,r3 in zip(s_,A_,B_)]\n",
    "\n",
    "        print (zipped)\n",
    "    else:\n",
    "        print (s_.shape, A_.shape, B_.shape)\n",
    "        print (\"Not have same shape\")\n",
    "\n",
    "def same_dim(*args):\n",
    "    shapes = [np.shape(np.array(arg)) for arg in args]\n",
    "\n",
    "    return all(shape == shapes[0] for shape in shapes)"
   ]
  },
  {
   "cell_type": "code",
   "execution_count": 79,
   "metadata": {},
   "outputs": [
    {
     "name": "stdout",
     "output_type": "stream",
     "text": [
      "(4, 4) (3,) (4, 3)\n",
      "Not have same shape\n"
     ]
    }
   ],
   "source": [
    "decompose(math_lib.transpose(s), A, B)"
   ]
  },
  {
   "cell_type": "code",
   "execution_count": 80,
   "metadata": {},
   "outputs": [
    {
     "data": {
      "text/plain": [
       "[[6210920301266528640527894807079214500602165062617900333868625936241, 2693704661840088486568063155969700311567336188071870216842793336303],\n",
       " [13395093142711244490949414740285904528731771703444461422316169548003, 1386177710749389606492854140816020132082046034321169278703660653055],\n",
       " [10479748114164261820989469671675739945182545246576172402210454921050, 12973996679783472661960348458451121808700299006314398530160825904262]]"
      ]
     },
     "execution_count": 80,
     "metadata": {},
     "output_type": "execute_result"
    }
   ],
   "source": [
    "A"
   ]
  },
  {
   "cell_type": "code",
   "execution_count": 81,
   "metadata": {},
   "outputs": [
    {
     "data": {
      "text/plain": [
       "[[[10222292869763003212177921396113081421597626461148751625963526007594, 7501836415110832766526439982389008171919139937759875283451593726244],\n",
       "  [647476536145263454649663629111386014453753170876950203981922752854, 322556368107729213888535336051555391709953674679240682332598431757],\n",
       "  [2536847502143815036612177572185957284773069658207229409269250556332, 1367628865557840787406105049478467147576481180683733898159672911230]],\n",
       " [[4433493580811008604649168649983764326256759652824948018943987465325, 5239473411124692330600615601504783005173744394501146511311963788531],\n",
       "  [4597983744197608681959662741795977157917972648565258454052572500285, 5976010693255851213395013403117623666563713170178976011048878178140],\n",
       "  [1550274815615418836300511053965564998361857714711399563925579774233, 4392228793315853979388053589623079548622285490413501146642170641331]],\n",
       " [[7159752001325868940930477425663631876890815739439565026834002960903, 14677864846415100731382352085579691817418720276375753871117815743081],\n",
       "  [15006332884180902194157977132676737708273601029921162738702429124105, 4460069247617262150305652096968316160415674078460851689438097017846],\n",
       "  [5977825847806223979793209573832998430227171207782766778918257364134, 2398120097927153839910039863257403767433863754349109981080320607660]],\n",
       " [[2906160409173363891542722756137863078024830190897153967750873376185, 7049575796766140845462957109413848462919972934545493159271877735992],\n",
       "  [11957012886081459979139168531840315695280456918610404945634296865333, 3867584428794995203975617674926267466718458341396422803035672614050],\n",
       "  [12502932254580095319835063311825344437216759137164626851038071298556, 10512544453491250346584931404334165152421568635808337094585221453938]]]"
      ]
     },
     "execution_count": 81,
     "metadata": {},
     "output_type": "execute_result"
    }
   ],
   "source": [
    "B"
   ]
  },
  {
   "cell_type": "code",
   "execution_count": null,
   "metadata": {},
   "outputs": [],
   "source": []
  }
 ],
 "metadata": {
  "kernelspec": {
   "display_name": "Python 3",
   "language": "python",
   "name": "python3"
  },
  "language_info": {
   "codemirror_mode": {
    "name": "ipython",
    "version": 3
   },
   "file_extension": ".py",
   "mimetype": "text/x-python",
   "name": "python",
   "nbconvert_exporter": "python",
   "pygments_lexer": "ipython3",
   "version": "3.10.12"
  }
 },
 "nbformat": 4,
 "nbformat_minor": 2
}
