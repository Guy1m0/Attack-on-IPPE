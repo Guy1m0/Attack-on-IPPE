{
 "cells": [
  {
   "cell_type": "code",
   "execution_count": 9,
   "metadata": {},
   "outputs": [],
   "source": [
    "from charm.toolbox.pairinggroup import PairingGroup, ZR, G1, G2, GT, pair\n",
    "from charm.toolbox.ABEnc import ABEnc\n",
    "from abenc_tf22 import DIPE_ABE, Inner_Product\n",
    "group = PairingGroup('SS512')\n",
    "n = 5\n",
    "dipe = DIPE_ABE(n, group)"
   ]
  },
  {
   "cell_type": "code",
   "execution_count": 10,
   "metadata": {},
   "outputs": [
    {
     "data": {
      "text/plain": [
       "0"
      ]
     },
     "execution_count": 10,
     "metadata": {},
     "output_type": "execute_result"
    }
   ],
   "source": [
    "attributes = Inner_Product(group)\n",
    "vec_x,vec_y = attributes.gen_x_y(n,[1,2])\n",
    "sum([x*y for x,y in zip(vec_x,vec_y)])"
   ]
  },
  {
   "cell_type": "code",
   "execution_count": 11,
   "metadata": {},
   "outputs": [],
   "source": [
    "pp = dipe.setup()\n",
    "pks, sks = dipe.auth_setup(pp)"
   ]
  },
  {
   "cell_type": "code",
   "execution_count": 12,
   "metadata": {},
   "outputs": [
    {
     "data": {
      "text/plain": [
       "(386591351392750010173459929727371764902143625318,\n",
       " [767479785009742645424970485650687203496389826638134299490589039496722877205482595171773332336086523416150410176675546945536520920381101722668631373092625, 3115369115962284198178209299626158507084719207589685240390739641531175867117402093532454796035255738187259980233588200289454838943812079117128282000853488])"
      ]
     },
     "execution_count": 12,
     "metadata": {},
     "output_type": "execute_result"
    }
   ],
   "source": [
    "GID = group.random(ZR)\n",
    "M = group.random(GT)\n",
    "GID, M"
   ]
  },
  {
   "cell_type": "code",
   "execution_count": 13,
   "metadata": {},
   "outputs": [],
   "source": [
    "D0, D1, K = dipe.keygen(pp, sks, GID, vec_x)"
   ]
  },
  {
   "cell_type": "code",
   "execution_count": 14,
   "metadata": {},
   "outputs": [],
   "source": [
    "C = dipe.encrypt(pp, pks, vec_y, M)"
   ]
  },
  {
   "cell_type": "code",
   "execution_count": 15,
   "metadata": {},
   "outputs": [
    {
     "data": {
      "text/plain": [
       "[767479785009742645424970485650687203496389826638134299490589039496722877205482595171773332336086523416150410176675546945536520920381101722668631373092625, 3115369115962284198178209299626158507084719207589685240390739641531175867117402093532454796035255738187259980233588200289454838943812079117128282000853488]"
      ]
     },
     "execution_count": 15,
     "metadata": {},
     "output_type": "execute_result"
    }
   ],
   "source": [
    "dipe.decrypt(D0, D1, K, C, vec_y)"
   ]
  },
  {
   "cell_type": "code",
   "execution_count": null,
   "metadata": {},
   "outputs": [],
   "source": []
  }
 ],
 "metadata": {
  "kernelspec": {
   "display_name": "Python 3",
   "language": "python",
   "name": "python3"
  },
  "language_info": {
   "codemirror_mode": {
    "name": "ipython",
    "version": 3
   },
   "file_extension": ".py",
   "mimetype": "text/x-python",
   "name": "python",
   "nbconvert_exporter": "python",
   "pygments_lexer": "ipython3",
   "version": "3.10.12"
  }
 },
 "nbformat": 4,
 "nbformat_minor": 2
}
