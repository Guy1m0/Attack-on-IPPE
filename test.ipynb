{
 "cells": [
  {
   "cell_type": "code",
   "execution_count": 15,
   "metadata": {},
   "outputs": [],
   "source": [
    "from abenc_ph_mj18 import PH_ABE, mat_math, Inner_Product\n",
    "from charm.toolbox.pairinggroup import PairingGroup, ZR, G1, G2, GT, pair\n",
    "from charm.toolbox.ABEnc import ABEnc\n",
    "from nizk import NIZK, s_pair\n",
    "import time\n",
    "import numpy as np"
   ]
  },
  {
   "cell_type": "markdown",
   "metadata": {},
   "source": [
    "## Test attack"
   ]
  },
  {
   "cell_type": "code",
   "execution_count": 29,
   "metadata": {},
   "outputs": [],
   "source": [
    "def ad_auth_setup(n, assump_size, ad, pks):\n",
    "\n",
    "    pk_ad = []\n",
    "    k = assump_size\n",
    "    pk_ad = [[1] * k] * (k+1)\n",
    "\n",
    "    for i in range(n-1):\n",
    "        if i + 1 == ad:\n",
    "            continue\n",
    "\n",
    "        g_XTA = pks[str(i+1)]['g_1^{X^T A}']\n",
    "\n",
    "        tmp = []\n",
    "        for j in range(len(g_XTA)):\n",
    "            tmp.append([x / y for x,y in zip(pk_ad[j], g_XTA[j])])\n",
    "        \n",
    "        pk_ad = tmp\n",
    "\n",
    "    pk = pks[str(ad)]\n",
    "    pk['g_1^{X^T A}'] = pk_ad\n",
    "    \n",
    "    pks[str(ad)] = pk\n",
    "\n",
    "    return pks\n",
    "    "
   ]
  },
  {
   "cell_type": "code",
   "execution_count": 30,
   "metadata": {},
   "outputs": [],
   "source": [
    "def gen_omega(K, C, n, assump_size):\n",
    "    H = K['g_2^h']\n",
    "    k = assump_size\n",
    "    C_i_s = C['C_i']\n",
    "\n",
    "    C_ = [1] * (k + 1)\n",
    "    #C_  = tmp\n",
    "    for i in range(n-1):\n",
    "        #print (len(C_), len(C_i_s[i]))\n",
    "        C_ = [x / y for x,y in zip(C_, C_i_s[i])]\n",
    "\n",
    "        #print (len(C_))\n",
    "\n",
    "    return [pair(x,y) for x,y in zip(C_, H)]"
   ]
  },
  {
   "cell_type": "code",
   "execution_count": 31,
   "metadata": {},
   "outputs": [],
   "source": [
    "n = 10\n",
    "assump_size = 3\n",
    "group = PairingGroup('MNT224')\n",
    "math_lib = mat_math()\n",
    "\n",
    "ph_abe = PH_ABE(n, assump_size, group, math_lib)\n",
    "\n",
    "pp, msk = ph_abe.setup()\n",
    "attributes = Inner_Product(group)\n",
    "vec_x, vec_v = attributes.gen_x_v(n, assump_size)\n",
    "\n",
    "pks, sks = ph_abe.auth_setup(pp)"
   ]
  },
  {
   "cell_type": "code",
   "execution_count": 32,
   "metadata": {},
   "outputs": [
    {
     "name": "stdout",
     "output_type": "stream",
     "text": [
      "time cost: 1.2208681106567383\n"
     ]
    }
   ],
   "source": [
    "nizk = NIZK(group)\n",
    "start_time = time.time()\n",
    "for i in range(10):\n",
    "    s_pairs, pis = nizk.commit_pk(pp, pks[str(i+1)], sks[str(i+1)])\n",
    "    check = nizk.verify_pk(pp, s_pairs, pis)\n",
    "    if not check:\n",
    "        print (\"Check not pass for AA:\", str(i+1))\n",
    "        break\n",
    "print ('time cost:', time.time() - start_time)"
   ]
  },
  {
   "cell_type": "code",
   "execution_count": 33,
   "metadata": {},
   "outputs": [
    {
     "name": "stdout",
     "output_type": "stream",
     "text": [
      "Authorized list:  [1, 0, 1, 1, 0, 0, 1, 1, 1, 1]\n",
      "Adversary: 2 \n",
      "Vector belongs to AD: [0, 0, 0, 0, 0, 0, 0, 0, 0, 1]\n"
     ]
    }
   ],
   "source": [
    "ad = vec_v.index(0) + 1\n",
    "ad_vec_v = [0] * (n-1) + [1]\n",
    "print ('Authorized list: ', vec_v)\n",
    "print ('Adversary:', ad, '\\nVector belongs to AD:', ad_vec_v)\n",
    "pks = ad_auth_setup(n, assump_size, ad, pks)"
   ]
  },
  {
   "cell_type": "code",
   "execution_count": 34,
   "metadata": {},
   "outputs": [
    {
     "name": "stdout",
     "output_type": "stream",
     "text": [
      "M:  [[6705585418817390708537610882945985979232665935187157568222451775651, 9411174331454666444342607239158936618460095006363376063998396523830, 2240463821460859647166692564875110341611711597968788763738465556583], [9076384366640225088212814252296122234332577719324470416937798045079, 12632826520214554986067878099671542004912117225969082824525758144174, 883157763994398227664894731033706131282776179477376759222767975410]]\n"
     ]
    }
   ],
   "source": [
    "M = group.random(GT)\n",
    "print ('M: ', M)\n",
    "\n",
    "C, vec_s = ph_abe.encrypt(pp, pks, vec_x, M)"
   ]
  },
  {
   "cell_type": "code",
   "execution_count": 35,
   "metadata": {},
   "outputs": [
    {
     "name": "stdout",
     "output_type": "stream",
     "text": [
      "M_ (Usr): [[6705585418817390708537610882945985979232665935187157568222451775651, 9411174331454666444342607239158936618460095006363376063998396523830, 2240463821460859647166692564875110341611711597968788763738465556583], [9076384366640225088212814252296122234332577719324470416937798045079, 12632826520214554986067878099671542004912117225969082824525758144174, 883157763994398227664894731033706131282776179477376759222767975410]]\n"
     ]
    }
   ],
   "source": [
    "K = ph_abe.keygen(pp, sks, vec_v)\n",
    "print ('M_ (Usr):', ph_abe.decrypt(K, C, vec_v,pp))"
   ]
  },
  {
   "cell_type": "code",
   "execution_count": 36,
   "metadata": {},
   "outputs": [
    {
     "name": "stdout",
     "output_type": "stream",
     "text": [
      "M_ (Adv): [[6705585418817390708537610882945985979232665935187157568222451775651, 9411174331454666444342607239158936618460095006363376063998396523830, 2240463821460859647166692564875110341611711597968788763738465556583], [9076384366640225088212814252296122234332577719324470416937798045079, 12632826520214554986067878099671542004912117225969082824525758144174, 883157763994398227664894731033706131282776179477376759222767975410]]\n"
     ]
    }
   ],
   "source": [
    "K_ = ph_abe.keygen(pp, sks, ad_vec_v)\n",
    "omega = gen_omega(K_, C, n, assump_size)\n",
    "M_ = ph_abe.decrypt(K_, C, ad_vec_v, pp)\n",
    "print ('M_ (Adv):', M_ * math_lib.prod(omega))"
   ]
  },
  {
   "cell_type": "markdown",
   "metadata": {},
   "source": [
    "### Identify Attacker"
   ]
  },
  {
   "cell_type": "code",
   "execution_count": 37,
   "metadata": {},
   "outputs": [
    {
     "name": "stdout",
     "output_type": "stream",
     "text": [
      "False for X in index:  0 0\n",
      "Check not pass for AA: 2\n",
      "time cost: 0.16427206993103027\n"
     ]
    }
   ],
   "source": [
    "nizk = NIZK(group)\n",
    "start_time = time.time()\n",
    "for i in range(10):\n",
    "    s_pairs, pis = nizk.commit_pk(pp, pks[str(i+1)], sks[str(i+1)])\n",
    "    check = nizk.verify_pk(pp, s_pairs, pis)\n",
    "    if not check:\n",
    "        print (\"Check not pass for AA:\", str(i+1))\n",
    "        break\n",
    "print ('time cost:', time.time() - start_time)"
   ]
  },
  {
   "cell_type": "markdown",
   "metadata": {},
   "source": [
    "## Generate Plot"
   ]
  },
  {
   "cell_type": "code",
   "execution_count": null,
   "metadata": {},
   "outputs": [],
   "source": []
  },
  {
   "cell_type": "markdown",
   "metadata": {},
   "source": [
    "## Test NIZK"
   ]
  },
  {
   "cell_type": "code",
   "execution_count": 5,
   "metadata": {},
   "outputs": [],
   "source": [
    "from nizk import NIZK, s_pair\n",
    "from abenc_ph_mj18 import PH_ABE, mat_math, Inner_Product\n",
    "from charm.toolbox.pairinggroup import PairingGroup, ZR, G1, G2, GT, pair\n",
    "from charm.toolbox.ABEnc import ABEnc\n",
    "import time\n",
    "import numpy as np"
   ]
  },
  {
   "cell_type": "code",
   "execution_count": 2,
   "metadata": {},
   "outputs": [],
   "source": [
    "n = 10\n",
    "assump_size = 3\n",
    "group = PairingGroup('MNT224')\n",
    "math_lib = mat_math()\n",
    "\n",
    "ph_abe = PH_ABE(n, assump_size, group, math_lib)\n",
    "\n",
    "pp, msk = ph_abe.setup()\n",
    "pks, sks = ph_abe.auth_setup(pp)\n",
    "nizk = NIZK(group)"
   ]
  },
  {
   "cell_type": "code",
   "execution_count": 7,
   "metadata": {},
   "outputs": [
    {
     "name": "stdout",
     "output_type": "stream",
     "text": [
      "time cost: 1.2179341316223145\n"
     ]
    }
   ],
   "source": [
    "start_time = time.time()\n",
    "for i in range(10):\n",
    "    s_pairs, pis = nizk.commit_pk(pp, pks[str(i+1)], sks[str(i+1)])\n",
    "    check = nizk.verify_pk(pp, s_pairs, pis)\n",
    "    if not check:\n",
    "        print (\"Check not pass\")\n",
    "        break\n",
    "print ('time cost:', time.time() - start_time)"
   ]
  },
  {
   "cell_type": "code",
   "execution_count": 3,
   "metadata": {},
   "outputs": [],
   "source": [
    "s_pairs, pis = nizk.commit_pk(pp, pks['1'], sks['1'])"
   ]
  },
  {
   "cell_type": "code",
   "execution_count": 4,
   "metadata": {},
   "outputs": [
    {
     "data": {
      "text/plain": [
       "True"
      ]
     },
     "execution_count": 4,
     "metadata": {},
     "output_type": "execute_result"
    }
   ],
   "source": [
    "nizk.verify_pk(pp, s_pairs, pis)"
   ]
  },
  {
   "cell_type": "markdown",
   "metadata": {},
   "source": [
    "### Complex"
   ]
  },
  {
   "cell_type": "code",
   "execution_count": 1,
   "metadata": {},
   "outputs": [],
   "source": [
    "import time"
   ]
  },
  {
   "cell_type": "code",
   "execution_count": 5,
   "metadata": {},
   "outputs": [
    {
     "name": "stdout",
     "output_type": "stream",
     "text": [
      "time cost: 0.1212320327758789\n"
     ]
    }
   ],
   "source": [
    "start_time = time.time()\n",
    "A = pp['g_1^A'] # global pp\n",
    "B = pks['1']['g_1^{X^T A}'] #pub key\n",
    "s = sks['1']['X'] # secret key\n",
    "R, u = nizk.commit_gA(pp, s, \"abc\")\n",
    "nizk.verify_gA(pp, B, R, u, \"abc\")\n",
    "\n",
    "R, u = nizk.commitPK(pp, pks['1'], sks['1'])\n",
    "nizk.verifyPK(pp, pks['1'], R, u)\n",
    "\n",
    "s = group.random(ZR)\n",
    "e_gh = pair(group.random(G1), group.random(G2))\n",
    "\n",
    "rps = s_pair(s, e_gh, group)\n",
    "R, u = nizk.commit(rps, \"abd\")\n",
    "nizk.verify(rps, R, u, \"abd\")\n",
    "print ('time cost:', time.time() - start_time)\n",
    "\n"
   ]
  },
  {
   "cell_type": "code",
   "execution_count": null,
   "metadata": {},
   "outputs": [],
   "source": [
    "nizk.verify_gA(pp, B, R, u, \"abc\")"
   ]
  },
  {
   "cell_type": "code",
   "execution_count": 10,
   "metadata": {},
   "outputs": [],
   "source": [
    "A = pp['g_1^A'] # global pp\n",
    "B = pks['1']['g_1^{X^T A}'] #pub key\n",
    "s = sks['1']['X'] # secret key"
   ]
  },
  {
   "cell_type": "code",
   "execution_count": 11,
   "metadata": {},
   "outputs": [
    {
     "data": {
      "text/plain": [
       "True"
      ]
     },
     "execution_count": 11,
     "metadata": {},
     "output_type": "execute_result"
    }
   ],
   "source": [
    "R, u = nizk.commit_gA(pp, s, \"abc\")\n",
    "nizk.verify_gA(pp, B, R, u, \"abc\")"
   ]
  },
  {
   "cell_type": "code",
   "execution_count": 12,
   "metadata": {},
   "outputs": [],
   "source": [
    "R, u = nizk.commitPK(pp, pks['1'], sks['1'])\n",
    "nizk.verifyPK(pp, pks['1'], R, u)"
   ]
  },
  {
   "cell_type": "code",
   "execution_count": 13,
   "metadata": {},
   "outputs": [
    {
     "data": {
      "text/plain": [
       "True"
      ]
     },
     "execution_count": 13,
     "metadata": {},
     "output_type": "execute_result"
    }
   ],
   "source": [
    "s = group.random(ZR)\n",
    "e_gh = pair(group.random(G1), group.random(G2))\n",
    "\n",
    "rps = s_pair(s, e_gh, group)\n",
    "R, u = nizk.commit(rps, \"abd\")\n",
    "nizk.verify(rps, R, u, \"abd\")"
   ]
  },
  {
   "cell_type": "code",
   "execution_count": 78,
   "metadata": {},
   "outputs": [],
   "source": [
    "def decompose(s, A, B):\n",
    "    rps = []\n",
    "    # check s, A, B same dim\n",
    "    s_ = np.array(s)\n",
    "    A_ = np.array(A)\n",
    "    B_ = np.array(B)\n",
    "\n",
    "    if s_.shape == A_.shape == B_.shape:\n",
    "\n",
    "        if s_.ndim == 1:\n",
    "            zipped = list(zip(s_, A_, B_))\n",
    "        elif s_.ndim == 2:\n",
    "            zipped = [list(zip(r1, r2, r3)) for r1, r2,r3 in zip(s_,A_,B_)]\n",
    "\n",
    "        print (zipped)\n",
    "    else:\n",
    "        print (s_.shape, A_.shape, B_.shape)\n",
    "        print (\"Not have same shape\")\n",
    "\n",
    "def same_dim(*args):\n",
    "    shapes = [np.shape(np.array(arg)) for arg in args]\n",
    "\n",
    "    return all(shape == shapes[0] for shape in shapes)"
   ]
  },
  {
   "cell_type": "code",
   "execution_count": null,
   "metadata": {},
   "outputs": [],
   "source": [
    "s = group.random(ZR)\n",
    "e_gh = pair(group.random(G1), group.random(G2))\n",
    "\n",
    "rps = s_pair(s, e_gh, group)\n",
    "R, u = nizk.commit(rps, \"abd\")\n",
    "nizk.verify(rps, R, u, \"abd\")"
   ]
  }
 ],
 "metadata": {
  "kernelspec": {
   "display_name": "Python 3",
   "language": "python",
   "name": "python3"
  },
  "language_info": {
   "codemirror_mode": {
    "name": "ipython",
    "version": 3
   },
   "file_extension": ".py",
   "mimetype": "text/x-python",
   "name": "python",
   "nbconvert_exporter": "python",
   "pygments_lexer": "ipython3",
   "version": "3.10.12"
  }
 },
 "nbformat": 4,
 "nbformat_minor": 2
}
