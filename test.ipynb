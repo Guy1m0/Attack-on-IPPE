{
 "cells": [
  {
   "cell_type": "code",
   "execution_count": 27,
   "metadata": {},
   "outputs": [],
   "source": [
    "from abenc_ph_mj18 import PH_ABE, mat_math, Inner_Product\n",
    "from charm.toolbox.pairinggroup import PairingGroup, ZR, G1, G2, GT, pair\n",
    "from charm.toolbox.ABEnc import ABEnc"
   ]
  },
  {
   "cell_type": "code",
   "execution_count": 28,
   "metadata": {},
   "outputs": [],
   "source": [
    "def ad_auth_setup(n, assump_size, ad, pks):\n",
    "\n",
    "    pk_ad = []\n",
    "    k = assump_size\n",
    "    pk_ad = [[1] * k] * (k+1)\n",
    "\n",
    "    for i in range(n-1):\n",
    "        if i + 1 == ad:\n",
    "            continue\n",
    "\n",
    "        g_XTA = pks[str(i+1)]['g_1^{X^T A}']\n",
    "\n",
    "        tmp = []\n",
    "        for j in range(len(g_XTA)):\n",
    "            tmp.append([x / y for x,y in zip(pk_ad[j], g_XTA[j])])\n",
    "        \n",
    "        pk_ad = tmp\n",
    "\n",
    "    pk = pks[str(ad)]\n",
    "    pk['g_1^{X^T A}'] = pk_ad\n",
    "    \n",
    "    pks[str(ad)] = pk\n",
    "\n",
    "    return pks\n",
    "    "
   ]
  },
  {
   "cell_type": "code",
   "execution_count": 29,
   "metadata": {},
   "outputs": [],
   "source": [
    "def gen_omega(K, C, n, assump_size):\n",
    "    H = K['g_2^h']\n",
    "    k = assump_size\n",
    "    C_i_s = C['C_i']\n",
    "\n",
    "    C_ = [1] * (k + 1)\n",
    "    #C_  = tmp\n",
    "    for i in range(n-1):\n",
    "        #print (len(C_), len(C_i_s[i]))\n",
    "        C_ = [x / y for x,y in zip(C_, C_i_s[i])]\n",
    "\n",
    "        #print (len(C_))\n",
    "\n",
    "    return [pair(x,y) for x,y in zip(C_, H)]"
   ]
  },
  {
   "cell_type": "code",
   "execution_count": 30,
   "metadata": {},
   "outputs": [],
   "source": [
    "n = 10\n",
    "assump_size = 3\n",
    "group = PairingGroup('MNT224')\n",
    "math_lib = mat_math()\n",
    "\n",
    "ph_abe = PH_ABE(n, assump_size, group, math_lib)\n",
    "\n",
    "pp, msk = ph_abe.setup()\n",
    "attributes = Inner_Product(group)\n",
    "vec_x, vec_v = attributes.gen_x_v(n, assump_size)\n",
    "\n",
    "pks, sks = ph_abe.auth_setup(pp)"
   ]
  },
  {
   "cell_type": "code",
   "execution_count": 31,
   "metadata": {},
   "outputs": [
    {
     "name": "stdout",
     "output_type": "stream",
     "text": [
      "Authorized list:  [0, 1, 1, 1, 1, 1, 0, 0, 1, 1]\n",
      "Adversary: 1 \n",
      "Vector belongs to AD: [0, 0, 0, 0, 0, 0, 0, 0, 0, 1]\n"
     ]
    }
   ],
   "source": [
    "ad = vec_v.index(0) + 1\n",
    "ad_vec_v = [0] * (n-1) + [1]\n",
    "print ('Authorized list: ', vec_v)\n",
    "print ('Adversary:', ad, '\\nVector belongs to AD:', ad_vec_v)\n",
    "pks = ad_auth_setup(n, assump_size, ad, pks)"
   ]
  },
  {
   "cell_type": "code",
   "execution_count": 32,
   "metadata": {},
   "outputs": [
    {
     "name": "stdout",
     "output_type": "stream",
     "text": [
      "M:  [[5038973744866951840776065006013138420695322697979728145521730329146, 14837491594312303209833875621790332361050041132194652945679373446975, 8387522200116333543355963480288421764865029732676042571931533013585], [7123377325527833739013609321237147015736754457640859252072261192363, 14030993579633381150436508320825388690284692191115310974961482046524, 9271122366359626461875710011807701721513268385523080964172501148983]]\n"
     ]
    }
   ],
   "source": [
    "M = group.random(GT)\n",
    "print ('M: ', M)\n",
    "\n",
    "C, vec_s = ph_abe.encrypt(pp, pks, vec_x, M)"
   ]
  },
  {
   "cell_type": "code",
   "execution_count": 33,
   "metadata": {},
   "outputs": [
    {
     "ename": "TypeError",
     "evalue": "PH_ABE._gen_mus() missing 2 required positional arguments: 'GID' and 'vec_v'",
     "output_type": "error",
     "traceback": [
      "\u001b[0;31m---------------------------------------------------------------------------\u001b[0m",
      "\u001b[0;31mTypeError\u001b[0m                                 Traceback (most recent call last)",
      "Cell \u001b[0;32mIn[33], line 1\u001b[0m\n\u001b[0;32m----> 1\u001b[0m K \u001b[38;5;241m=\u001b[39m \u001b[43mph_abe\u001b[49m\u001b[38;5;241;43m.\u001b[39;49m\u001b[43mkeygen\u001b[49m\u001b[43m(\u001b[49m\u001b[43mpp\u001b[49m\u001b[43m,\u001b[49m\u001b[43m \u001b[49m\u001b[43msks\u001b[49m\u001b[43m,\u001b[49m\u001b[43m \u001b[49m\u001b[43mvec_v\u001b[49m\u001b[43m)\u001b[49m\n\u001b[1;32m      2\u001b[0m \u001b[38;5;28mprint\u001b[39m (\u001b[38;5;124m'\u001b[39m\u001b[38;5;124mM_ (Usr):\u001b[39m\u001b[38;5;124m'\u001b[39m, ph_abe\u001b[38;5;241m.\u001b[39mdecrypt(K, C, vec_v,pp))\n",
      "File \u001b[0;32m~/Desktop/Repo/Attack-on-IPPE/abenc_ph_mj18.py:175\u001b[0m, in \u001b[0;36mPH_ABE.keygen\u001b[0;34m(self, pp, sks, vec_v, ad)\u001b[0m\n\u001b[1;32m    172\u001b[0m g2 \u001b[38;5;241m=\u001b[39m pp[\u001b[38;5;124m'\u001b[39m\u001b[38;5;124mg_2\u001b[39m\u001b[38;5;124m'\u001b[39m]\n\u001b[1;32m    173\u001b[0m n \u001b[38;5;241m=\u001b[39m \u001b[38;5;28mself\u001b[39m\u001b[38;5;241m.\u001b[39mn\n\u001b[0;32m--> 175\u001b[0m mus,h, _ \u001b[38;5;241m=\u001b[39m \u001b[38;5;28;43mself\u001b[39;49m\u001b[38;5;241;43m.\u001b[39;49m\u001b[43m_gen_mus\u001b[49m\u001b[43m(\u001b[49m\u001b[43m)\u001b[49m\n\u001b[1;32m    176\u001b[0m K \u001b[38;5;241m=\u001b[39m {}\n\u001b[1;32m    178\u001b[0m \u001b[38;5;28;01mfor\u001b[39;00m i \u001b[38;5;129;01min\u001b[39;00m \u001b[38;5;28mrange\u001b[39m(n):\n",
      "\u001b[0;31mTypeError\u001b[0m: PH_ABE._gen_mus() missing 2 required positional arguments: 'GID' and 'vec_v'"
     ]
    }
   ],
   "source": [
    "K = ph_abe.keygen(pp, sks, vec_v)\n",
    "print ('M_ (Usr):', ph_abe.decrypt(K, C, vec_v,pp))"
   ]
  },
  {
   "cell_type": "code",
   "execution_count": 34,
   "metadata": {},
   "outputs": [
    {
     "ename": "TypeError",
     "evalue": "PH_ABE._gen_mus() missing 2 required positional arguments: 'GID' and 'vec_v'",
     "output_type": "error",
     "traceback": [
      "\u001b[0;31m---------------------------------------------------------------------------\u001b[0m",
      "\u001b[0;31mTypeError\u001b[0m                                 Traceback (most recent call last)",
      "Cell \u001b[0;32mIn[34], line 1\u001b[0m\n\u001b[0;32m----> 1\u001b[0m K_ \u001b[38;5;241m=\u001b[39m \u001b[43mph_abe\u001b[49m\u001b[38;5;241;43m.\u001b[39;49m\u001b[43mkeygen\u001b[49m\u001b[43m(\u001b[49m\u001b[43mpp\u001b[49m\u001b[43m,\u001b[49m\u001b[43m \u001b[49m\u001b[43msks\u001b[49m\u001b[43m,\u001b[49m\u001b[43m \u001b[49m\u001b[43mad_vec_v\u001b[49m\u001b[43m)\u001b[49m\n\u001b[1;32m      2\u001b[0m omega \u001b[38;5;241m=\u001b[39m gen_omega(K_, C, n, assump_size)\n\u001b[1;32m      3\u001b[0m M_ \u001b[38;5;241m=\u001b[39m ph_abe\u001b[38;5;241m.\u001b[39mdecrypt(K_, C, ad_vec_v, pp)\n",
      "File \u001b[0;32m~/Desktop/Repo/Attack-on-IPPE/abenc_ph_mj18.py:175\u001b[0m, in \u001b[0;36mPH_ABE.keygen\u001b[0;34m(self, pp, sks, vec_v, ad)\u001b[0m\n\u001b[1;32m    172\u001b[0m g2 \u001b[38;5;241m=\u001b[39m pp[\u001b[38;5;124m'\u001b[39m\u001b[38;5;124mg_2\u001b[39m\u001b[38;5;124m'\u001b[39m]\n\u001b[1;32m    173\u001b[0m n \u001b[38;5;241m=\u001b[39m \u001b[38;5;28mself\u001b[39m\u001b[38;5;241m.\u001b[39mn\n\u001b[0;32m--> 175\u001b[0m mus,h, _ \u001b[38;5;241m=\u001b[39m \u001b[38;5;28;43mself\u001b[39;49m\u001b[38;5;241;43m.\u001b[39;49m\u001b[43m_gen_mus\u001b[49m\u001b[43m(\u001b[49m\u001b[43m)\u001b[49m\n\u001b[1;32m    176\u001b[0m K \u001b[38;5;241m=\u001b[39m {}\n\u001b[1;32m    178\u001b[0m \u001b[38;5;28;01mfor\u001b[39;00m i \u001b[38;5;129;01min\u001b[39;00m \u001b[38;5;28mrange\u001b[39m(n):\n",
      "\u001b[0;31mTypeError\u001b[0m: PH_ABE._gen_mus() missing 2 required positional arguments: 'GID' and 'vec_v'"
     ]
    }
   ],
   "source": [
    "K_ = ph_abe.keygen(pp, sks, ad_vec_v)\n",
    "omega = gen_omega(K_, C, n, assump_size)\n",
    "M_ = ph_abe.decrypt(K_, C, ad_vec_v, pp)\n",
    "print ('M_ (Adv):', M_ * math_lib.prod(omega))"
   ]
  },
  {
   "cell_type": "code",
   "execution_count": 67,
   "metadata": {},
   "outputs": [],
   "source": [
    "class RPs:\n",
    "    def __init__(self, s, G, group):\n",
    "        self.s = s\n",
    "        self.B = G ** s\n",
    "        self.A = G\n",
    "        self.group = group\n",
    "\n",
    "    def getA(self):\n",
    "        return self.A\n",
    "\n",
    "    "
   ]
  },
  {
   "cell_type": "code",
   "execution_count": 85,
   "metadata": {},
   "outputs": [],
   "source": [
    "class NIZK():\n",
    "\n",
    "    def __init__(self, rps, group):\n",
    "        self.rps = rps\n",
    "        self.group = group\n",
    "\n",
    "    def commit(self, h):\n",
    "        a = self.group.random(ZR)\n",
    "        R = self.rps.A ** a\n",
    "        print (a, R)\n",
    "        hash_input = str(R) + h\n",
    "        c = self.group.hash(hash_input, ZR)\n",
    "        print (\"add 1:\", c * self.rps.s)\n",
    "        print (\"add 2:\", a)\n",
    "        u = a + c * self.rps.s\n",
    "        return R, u\n",
    "    \n",
    "    def verify(self, R, u, h):\n",
    "            hash_input = str(R) + h\n",
    "            c = self.group.hash(hash_input, ZR)\n",
    "\n",
    "            return self.rps.A ** u == R * (self.rps.B ** c)\n",
    "        \n",
    "        \n",
    "\n"
   ]
  },
  {
   "cell_type": "code",
   "execution_count": 86,
   "metadata": {},
   "outputs": [],
   "source": [
    "group = PairingGroup('MNT224')\n",
    "s = group.random(ZR)"
   ]
  },
  {
   "cell_type": "code",
   "execution_count": 87,
   "metadata": {},
   "outputs": [],
   "source": [
    "rps = RPs(s, group.random(G1), group)"
   ]
  },
  {
   "cell_type": "code",
   "execution_count": 88,
   "metadata": {},
   "outputs": [],
   "source": [
    "nizk = NIZK(rps, group)"
   ]
  },
  {
   "cell_type": "code",
   "execution_count": 89,
   "metadata": {},
   "outputs": [
    {
     "name": "stdout",
     "output_type": "stream",
     "text": [
      "2042505281892514900967974934741364031288178404995691350652557646367 [3697327398997224313162851902352986109970951457283345030364976871137, 7249121661250782700566430785868938224711204716581130614891784509962]\n",
      "add 1: 5321640237532103160627954028918825727879448742358636889446439420332\n",
      "add 2: 2042505281892514900967974934741364031288178404995691350652557646367\n"
     ]
    }
   ],
   "source": [
    "R, u = nizk.commit(\"abd\")"
   ]
  },
  {
   "cell_type": "code",
   "execution_count": 90,
   "metadata": {},
   "outputs": [],
   "source": [
    "from charm.toolbox.pairinggroup import PairingGroup, ZR, G1, G2, GT, pair"
   ]
  },
  {
   "cell_type": "code",
   "execution_count": 92,
   "metadata": {},
   "outputs": [
    {
     "data": {
      "text/plain": [
       "False"
      ]
     },
     "execution_count": 92,
     "metadata": {},
     "output_type": "execute_result"
    }
   ],
   "source": [
    "nizk.verify(R, u, \"abc\")"
   ]
  },
  {
   "cell_type": "code",
   "execution_count": 78,
   "metadata": {},
   "outputs": [
    {
     "data": {
      "text/plain": [
       "2"
      ]
     },
     "execution_count": 78,
     "metadata": {},
     "output_type": "execute_result"
    }
   ],
   "source": [
    "G2"
   ]
  },
  {
   "cell_type": "code",
   "execution_count": null,
   "metadata": {},
   "outputs": [],
   "source": []
  }
 ],
 "metadata": {
  "kernelspec": {
   "display_name": "Python 3",
   "language": "python",
   "name": "python3"
  },
  "language_info": {
   "codemirror_mode": {
    "name": "ipython",
    "version": 3
   },
   "file_extension": ".py",
   "mimetype": "text/x-python",
   "name": "python",
   "nbconvert_exporter": "python",
   "pygments_lexer": "ipython3",
   "version": "3.10.12"
  }
 },
 "nbformat": 4,
 "nbformat_minor": 2
}
