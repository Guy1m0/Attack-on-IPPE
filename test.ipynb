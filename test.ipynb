{
 "cells": [
  {
   "cell_type": "code",
   "execution_count": 13,
   "metadata": {},
   "outputs": [],
   "source": [
    "from abenc_ph_mj18 import PH_ABE, mat_math\n",
    "from charm.toolbox.pairinggroup import PairingGroup, ZR, G1, G2, GT, pair\n",
    "from charm.toolbox.ABEnc import ABEnc"
   ]
  },
  {
   "cell_type": "code",
   "execution_count": 17,
   "metadata": {},
   "outputs": [],
   "source": [
    "from abenc_ph_mj18 import Inner_Product"
   ]
  },
  {
   "cell_type": "code",
   "execution_count": 20,
   "metadata": {},
   "outputs": [],
   "source": [
    "def ad_auth_setup(n, assump_size, ad, pks):\n",
    "\n",
    "    pk_ad = []\n",
    "    k = assump_size\n",
    "    pk_ad = [[1] * k] * (k+1)\n",
    "\n",
    "    for i in range(n-1):\n",
    "        if i + 1 == ad:\n",
    "            continue\n",
    "\n",
    "        g_XTA = pks[str(i+1)]['g_1^{X^T A}']\n",
    "\n",
    "        tmp = []\n",
    "        for j in range(len(g_XTA)):\n",
    "            tmp.append([x / y for x,y in zip(pk_ad[j], g_XTA[j])])\n",
    "        \n",
    "        pk_ad = tmp\n",
    "\n",
    "    pk = pks[str(ad)]\n",
    "    pk['g_1^{X^T A}'] = pk_ad\n",
    "    \n",
    "    pks[str(ad)] = pk\n",
    "\n",
    "    return pks\n",
    "    "
   ]
  },
  {
   "cell_type": "code",
   "execution_count": 21,
   "metadata": {},
   "outputs": [],
   "source": [
    "def gen_omega(K, C, n, assump_size):\n",
    "    H = K['g_2^h']\n",
    "    k = assump_size\n",
    "    C_i_s = C['C_i']\n",
    "\n",
    "    C_ = [1] * (k + 1)\n",
    "    #C_  = tmp\n",
    "    for i in range(n-1):\n",
    "        #print (len(C_), len(C_i_s[i]))\n",
    "        C_ = [x / y for x,y in zip(C_, C_i_s[i])]\n",
    "\n",
    "        #print (len(C_))\n",
    "\n",
    "    return [pair(x,y) for x,y in zip(C_, H)]"
   ]
  },
  {
   "cell_type": "code",
   "execution_count": 38,
   "metadata": {},
   "outputs": [],
   "source": [
    "n = 10\n",
    "assump_size = 3\n",
    "group = PairingGroup('MNT224')\n",
    "math_lib = mat_math()\n",
    "\n",
    "ph_abe = PH_ABE(n, assump_size, group, math_lib)\n",
    "\n",
    "pp, msk = ph_abe.setup()\n",
    "attributes = Inner_Product(group)\n",
    "vec_x, vec_v = attributes.gen_x_v(n, assump_size)\n",
    "\n",
    "pks, sks = ph_abe.auth_setup(pp)"
   ]
  },
  {
   "cell_type": "code",
   "execution_count": 40,
   "metadata": {},
   "outputs": [
    {
     "name": "stdout",
     "output_type": "stream",
     "text": [
      "Authorized list:  [1, 0, 1, 0, 0, 1, 1, 0, 1, 1]\n",
      "Adversary: 2 \n",
      "Vector belongs to AD: [0, 0, 0, 0, 0, 0, 0, 0, 0, 1]\n"
     ]
    }
   ],
   "source": [
    "ad = vec_v.index(0) + 1\n",
    "ad_vec_v = [0] * (n-1) + [1]\n",
    "print ('Authorized list: ', vec_v)\n",
    "print ('Adversary:', ad, '\\nVector belongs to AD:', ad_vec_v)\n",
    "pks = ad_auth_setup(n, assump_size, ad, pks)"
   ]
  },
  {
   "cell_type": "code",
   "execution_count": 41,
   "metadata": {},
   "outputs": [
    {
     "name": "stdout",
     "output_type": "stream",
     "text": [
      "M:  [[9179930058144160982031724517219801053539564500016631856097408525210, 1202828004069968285919388787173363650499937838762169761686762172258, 13023743049817406043053827756333361660438107038153046577477222526412], [11127999550334493716681488416220348734427419161140790601937153976550, 3823503143179356213115306727375863620355236173958378374157558499045, 4858313682959145238527509675204204981393664403313779788025434373780]]\n"
     ]
    }
   ],
   "source": [
    "M = group.random(GT)\n",
    "print ('M: ', M)\n",
    "\n",
    "C, vec_s = ph_abe.encrypt(pp, pks, vec_x, M)"
   ]
  },
  {
   "cell_type": "code",
   "execution_count": 42,
   "metadata": {},
   "outputs": [
    {
     "name": "stdout",
     "output_type": "stream",
     "text": [
      "M_ (Usr): [[9179930058144160982031724517219801053539564500016631856097408525210, 1202828004069968285919388787173363650499937838762169761686762172258, 13023743049817406043053827756333361660438107038153046577477222526412], [11127999550334493716681488416220348734427419161140790601937153976550, 3823503143179356213115306727375863620355236173958378374157558499045, 4858313682959145238527509675204204981393664403313779788025434373780]]\n"
     ]
    }
   ],
   "source": [
    "K = ph_abe.keygen(pp, sks, vec_v)\n",
    "print ('M_ (Usr):', ph_abe.decrypt(K, C, vec_v,pp))"
   ]
  },
  {
   "cell_type": "code",
   "execution_count": 43,
   "metadata": {},
   "outputs": [
    {
     "name": "stdout",
     "output_type": "stream",
     "text": [
      "M_ (Adv): [[9179930058144160982031724517219801053539564500016631856097408525210, 1202828004069968285919388787173363650499937838762169761686762172258, 13023743049817406043053827756333361660438107038153046577477222526412], [11127999550334493716681488416220348734427419161140790601937153976550, 3823503143179356213115306727375863620355236173958378374157558499045, 4858313682959145238527509675204204981393664403313779788025434373780]]\n"
     ]
    }
   ],
   "source": [
    "K_ = ph_abe.keygen(pp, sks, ad_vec_v)\n",
    "omega = gen_omega(K_, C, n, assump_size)\n",
    "M_ = ph_abe.decrypt(K_, C, ad_vec_v, pp)\n",
    "print ('M_ (Adv):', M_ * math_lib.prod(omega))"
   ]
  },
  {
   "cell_type": "code",
   "execution_count": null,
   "metadata": {},
   "outputs": [],
   "source": []
  }
 ],
 "metadata": {
  "kernelspec": {
   "display_name": "Python 3",
   "language": "python",
   "name": "python3"
  },
  "language_info": {
   "codemirror_mode": {
    "name": "ipython",
    "version": 3
   },
   "file_extension": ".py",
   "mimetype": "text/x-python",
   "name": "python",
   "nbconvert_exporter": "python",
   "pygments_lexer": "ipython3",
   "version": "3.10.12"
  }
 },
 "nbformat": 4,
 "nbformat_minor": 2
}
