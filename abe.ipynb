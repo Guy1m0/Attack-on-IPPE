{
  "cells": [
    {
      "cell_type": "code",
      "execution_count": 293,
      "metadata": {
        "id": "d6HScPJsJyaU"
      },
      "outputs": [],
      "source": [
        "from charm.toolbox.pairinggroup import PairingGroup, ZR, G1, G2, GT, pair\n",
        "from charm.toolbox.ABEnc import ABEnc\n",
        "from charm.toolbox.msp import MSP\n",
        "\n",
        "import random"
      ]
    },
    {
      "cell_type": "markdown",
      "metadata": {},
      "source": [
        "## Helper Function"
      ]
    },
    {
      "cell_type": "code",
      "execution_count": 353,
      "metadata": {},
      "outputs": [],
      "source": [
        "# k refers to k-lin, but also decides the size of vector\n",
        "def gen_Z_p(k, groupObj = PairingGroup('MNT224')):\n",
        "    group = groupObj\n",
        "    vec = []\n",
        "    if k == 1:\n",
        "        return group.random(ZR)\n",
        "    \n",
        "    for i in range(k):\n",
        "        vec.append(group.random(ZR))\n",
        "    \n",
        "    return vec\n",
        "\n",
        "# n refers to number of AA here\n",
        "# Generate a random oracl that only return constant value for each AA_i\n",
        "# @update: Use group.hash(), maps to Z_p^{k+1}\n",
        "def rand_oracle(n, k, groupObj = PairingGroup('MNT224')):\n",
        "    group = groupObj\n",
        "\n",
        "    H = {}\n",
        "    for i in range(n):\n",
        "        for j in range(i, n):\n",
        "            H[str(i+1)+str(j+1)] = gen_Z_p(k+1,group)\n",
        "    \n",
        "    return H\n"
      ]
    },
    {
      "cell_type": "code",
      "execution_count": 400,
      "metadata": {},
      "outputs": [],
      "source": [
        "# i refers to the index in the total n AA\n",
        "# k refers to k-lin assumption\n",
        "def gen_mu_i(i, n, k, H, groupObj = PairingGroup('MNT224')):\n",
        "    group = groupObj\n",
        "    mu = [0] * (k+1)\n",
        "    for j in range(1, i):\n",
        "        mu = [x + y for x,y in zip(mu, H[str(j)+str(i)])]\n",
        "\n",
        "    if i == n:\n",
        "        return mu\n",
        "\n",
        "    for j in range(i+1,n+1):\n",
        "        mu = [x - y for x,y in zip(mu, H[str(i)+str(j)])]\n",
        "\n",
        "    return mu\n",
        "\n",
        "def gen_mus(n,assump_size, groupObj = PairingGroup('MNT224')):\n",
        "    group = groupObj\n",
        "    mus = {}\n",
        "    k = assump_size\n",
        "\n",
        "    H = rand_oracle(n,k)\n",
        "    h = []\n",
        "\n",
        "    for i in range(n):\n",
        "        mus[str(i+1)] = gen_mu_i(i+1,n,k,H)\n",
        "    \n",
        "    for i in range(k+1):\n",
        "        h.append(group.random(ZR))\n",
        "    \n",
        "    return mus, h, H\n",
        "\n",
        "def vrf_mus(mu_list, k):\n",
        "    n = len(mu_list)\n",
        "    s = [0] * (k+1)\n",
        "\n",
        "    for i in range(n):\n",
        "        s = [x + y for x,y in zip(s, mu_list[i])]\n",
        "\n",
        "    print (s)"
      ]
    },
    {
      "cell_type": "code",
      "execution_count": 176,
      "metadata": {},
      "outputs": [],
      "source": [
        "def prod(iterable, type = 'scalar'):\n",
        "    if type == 'scalar':\n",
        "        result = 1\n",
        "        for item in iterable:\n",
        "            result *= item\n",
        "\n",
        "        return result\n",
        "    \n",
        "    if type == 'vector':\n",
        "        result = [prod(values) for values in zip(*iterable)]\n",
        "        return result"
      ]
    },
    {
      "cell_type": "code",
      "execution_count": 329,
      "metadata": {},
      "outputs": [],
      "source": [
        "def transpose(matrix):\n",
        "    # If it's a vector, convert to a 1xN matrix\n",
        "    if not isinstance(matrix[0], list):\n",
        "        matrix = [matrix]\n",
        "    \n",
        "    # Transpose the matrix\n",
        "    transposed = [[row[i] for row in matrix] for i in range(len(matrix[0]))]\n",
        "    \n",
        "    return transposed\n",
        "\n",
        "def mul_matrices(A, B):\n",
        "    # Check if B is a vector\n",
        "    if not isinstance(B[0], list):\n",
        "        result = [sum(A[i][j] * B[j] for j in range(len(B))) for i in range(len(A))]\n",
        "    else:  # B is a matrix\n",
        "        result = [[sum(A[i][j] * B[j][k] for j in range(len(B))) for k in range(len(B[0]))] for i in range(len(A))]\n",
        "\n",
        "    return result\n",
        "\n",
        "def add_matrices(A, B):\n",
        "    # Check if they are vectors (1D) or matrices (2D)\n",
        "    if isinstance(A[0], list) and isinstance(B[0], list):  # Both are matrices\n",
        "        if len(A) != len(B) or len(A[0]) != len(B[0]):\n",
        "            raise ValueError(\"Matrices dimensions do not match\")\n",
        "        return [[A[i][j] + B[i][j] for j in range(len(A[0]))] for i in range(len(A))]\n",
        "    elif not isinstance(A[0], list) and not isinstance(B[0], list):  # Both are vectors\n",
        "        if len(A) != len(B):\n",
        "            raise ValueError(\"Vectors lengths do not match\")\n",
        "        return [A[i] + B[i] for i in range(len(A))]\n",
        "    else:\n",
        "        raise ValueError(\"Incompatible dimensions: One is vector, the other is matrix\")\n",
        "\n",
        "def subtract_matrices(A, B):\n",
        "    # Check if they are vectors (1D) or matrices (2D)\n",
        "    if isinstance(A[0], list) and isinstance(B[0], list):  # Both are matrices\n",
        "        if len(A) != len(B) or len(A[0]) != len(B[0]):\n",
        "            raise ValueError(\"Matrices dimensions do not match\")\n",
        "        return [[A[i][j] - B[i][j] for j in range(len(A[0]))] for i in range(len(A))]\n",
        "    elif not isinstance(A[0], list) and not isinstance(B[0], list):  # Both are vectors\n",
        "        if len(A) != len(B):\n",
        "            raise ValueError(\"Vectors lengths do not match\")\n",
        "        return [A[i] - B[i] for i in range(len(A))]\n",
        "    else:\n",
        "        raise ValueError(\"Incompatible dimensions: One is vector, the other is matrix\")\n",
        "\n",
        "def power_mul(A, B, type = 'matrix'):\n",
        "    if type == 'v_scalar':\n",
        "        result=[]\n",
        "        for elem in A:\n",
        "            # print ('new elem:')\n",
        "            # print (elem)\n",
        "            result.append(elem ** B)\n",
        "        return result\n",
        "\n",
        "    if type == 'm_scalar':\n",
        "        return [[elem ** B for elem in row] for row in A]\n",
        "    \n",
        "    if type == 'v_vector':\n",
        "        if len(A) != len(B):\n",
        "            raise ValueError(\"Number of elements in A must be equal to number of elements in B\")\n",
        "\n",
        "        return prod([a ** b for a,b in zip(A,B)])\n",
        "    \n",
        "    if type == 'm_vector':\n",
        "        # print (A[0])\n",
        "        # print (B)\n",
        "        if len(A[0]) != len(B):\n",
        "            raise ValueError(\"Number of columns in A must be equal to number of elements in B\")\n",
        "        \n",
        "        result = [1] * len(A)\n",
        "\n",
        "        for i in range(len(A)):\n",
        "            for j in range(len(B)):\n",
        "                result[i] *= A[i][j] ** B[j]\n",
        "        return result\n",
        "\n",
        "    result = [[1 for _ in range(len(B[0]))] for _ in range(len(A))]\n",
        "    for i in range(len(A)):\n",
        "        for j in range(len(B[0])):\n",
        "            for k in range(len(B)):\n",
        "                result[i][j] *= A[i][k] ** B[k][j]\n",
        "\n",
        "    return result"
      ]
    },
    {
      "cell_type": "markdown",
      "metadata": {
        "id": "6vZiReIWEwuT"
      },
      "source": [
        "## System & Auth Setup"
      ]
    },
    {
      "cell_type": "code",
      "execution_count": 178,
      "metadata": {},
      "outputs": [],
      "source": [
        "# for given size k\n",
        "def sys_setup(assump_size, groupObj = PairingGroup('MNT224')):\n",
        "    k = assump_size\n",
        "    group = groupObj\n",
        "\n",
        "    # Generate Pub Param\n",
        "    A = []\n",
        "    for i in range(k):\n",
        "        A.append(group.random(ZR))\n",
        "\n",
        "    '''\n",
        "    a_1  0   0   0   0\n",
        "    0   a_2  0   0   0\n",
        "    0    0  a_3  0   0\n",
        "    0    0   0  a_4  0\n",
        "    0    0   0   0  a_5\n",
        "    1    1   1   1   1\n",
        "    '''\n",
        "    # a special vector to make A^T.dot(a) = 0\n",
        "    # a = [1/a_1 1/a_2 1/a_3 1/a_4 1/a_5 -1]\n",
        "    a = []\n",
        "    for i in range(assump_size):\n",
        "        a.append(1/A[i])\n",
        "    a.append(-1)\n",
        "\n",
        "    U = []\n",
        "    for j1 in range(k + 1): #col\n",
        "        y = []\n",
        "        for j2 in range(k + 1): #row\n",
        "            y.append(group.random(ZR))\n",
        "        U.append(y)\n",
        "\n",
        "    g = group.random(G1)\n",
        "    h = group.random(G2)\n",
        "    e_gh = pair(g,h)\n",
        "\n",
        "    g_A = []\n",
        "    for j in range(k):\n",
        "        g_A.append(g**A[j])\n",
        "\n",
        "    g_UTA = []\n",
        "    for j1 in range(k+1): #col\n",
        "        y = []\n",
        "        for j2 in range(k): #row\n",
        "            prod = (A[j2] * U[j2][j1] + U[k][j1])\n",
        "            y.append(g ** prod)\n",
        "        g_UTA.append(y)    \n",
        "\n",
        "    pp = {'g_1': g, 'g_2': h, 'e_g1_g2':e_gh, 'g_1^A': g_A, 'g_1^{U^T A}': g_UTA}\n",
        "    msk = {'A': A, 'U': U, 'a': a}\n",
        "    return pp, msk"
      ]
    },
    {
      "cell_type": "code",
      "execution_count": 179,
      "metadata": {},
      "outputs": [],
      "source": [
        "pp, msk = sys_setup(3)"
      ]
    },
    {
      "cell_type": "code",
      "execution_count": 326,
      "metadata": {
        "id": "shhI1Tgvj0uY"
      },
      "outputs": [],
      "source": [
        "def gen_pk_sk(pp, assump_size, groupObj = PairingGroup('MNT224')):\n",
        "    k = assump_size\n",
        "    group = groupObj\n",
        "\n",
        "    g = pp['g_1']\n",
        "    h = pp['g_2']\n",
        "    e_gh = pp['e_g1_g2']\n",
        "    g_A = pp['g_1^A']\n",
        "\n",
        "    X = [] # random samples <- F_p^{(k+1) * (k+1)}\n",
        "    for j1 in range(k + 1): #col\n",
        "        y = []\n",
        "        for j2 in range(k + 1): #row\n",
        "            y.append(group.random(ZR))\n",
        "        X.append(y)\n",
        "\n",
        "    tau = []\n",
        "    for i in range(k+1):\n",
        "        tau.append(group.random(ZR))\n",
        "\n",
        "    sigma = group.random(ZR)\n",
        "\n",
        "    g_XTA = []\n",
        "    for j1 in range(k+1):\n",
        "        y = []\n",
        "        for j2 in range(k):\n",
        "            y.append(g_A[j2]**X[j2][j1] * g ** X[k][j1])\n",
        "        g_XTA.append(y)\n",
        "\n",
        "    e_gAh = []\n",
        "    for i in range(k):\n",
        "        e_gAh.append(pair(g_A[i],h))\n",
        "    e_gAh.append(e_gh)\n",
        "\n",
        "    e_gh_tauTA = []\n",
        "    for i in range(k):\n",
        "        e_gh_tauTA.append(e_gAh[i]**tau[i] * e_gh**tau[k])\n",
        "\n",
        "    y = h**sigma\n",
        "\n",
        "    pk = {'g_1^{X^T A}': g_XTA, 'e(g_1,g_2)^{tau^T A}': e_gh_tauTA, 'y': y}\n",
        "    sk = {'X': X, 'tau': tau, 'sigma': sigma}\n",
        "    return pk, sk\n",
        "\n",
        "def auth_setup(n, pp, assump_size, groupObj = PairingGroup('MNT224')):\n",
        "    pks = {}\n",
        "    sks = {}\n",
        "\n",
        "    for i in range(n):\n",
        "        pk, sk = gen_pk_sk(pp, assump_size, groupObj)\n",
        "        #print (pk)\n",
        "        pks[str(i+1)] = pk\n",
        "        sks[str(i+1)] = sk\n",
        "\n",
        "    return pks, sks"
      ]
    },
    {
      "cell_type": "code",
      "execution_count": 327,
      "metadata": {},
      "outputs": [],
      "source": [
        "pks, sks = auth_setup(5, pp, 3)"
      ]
    },
    {
      "cell_type": "markdown",
      "metadata": {},
      "source": [
        "## Key Generation"
      ]
    },
    {
      "cell_type": "code",
      "execution_count": 320,
      "metadata": {},
      "outputs": [],
      "source": [
        "def gen_x_v(n, assump_size, authorized = [],groupObj= PairingGroup('MNT224')):\n",
        "    k = assump_size\n",
        "    group = groupObj\n",
        "\n",
        "    if not authorized:\n",
        "        size = random.randint(1,n-2)\n",
        "        authorized = random.sample(range(n-1), size)\n",
        "\n",
        "    #print (authorized)\n",
        "    vec_x = [0] * n\n",
        "    vec_v = [0] * n\n",
        "\n",
        "    for index in authorized:\n",
        "        if index == authorized:\n",
        "            print ('incorrect index to be ', n)\n",
        "            continue\n",
        "\n",
        "        vec_x[index] = group.random(ZR)\n",
        "        vec_v[index] = 1\n",
        "\n",
        "    vec_x[-1] = -sum(vec_x[:-1])\n",
        "    vec_v[-1] = 1\n",
        "\n",
        "    return vec_x, vec_v"
      ]
    },
    {
      "cell_type": "code",
      "execution_count": 321,
      "metadata": {},
      "outputs": [],
      "source": [
        "vec_x, vec_v = gen_x_v(5, 3)\n",
        "#print (vec_v)"
      ]
    },
    {
      "cell_type": "code",
      "execution_count": 401,
      "metadata": {},
      "outputs": [],
      "source": [
        "# @todo, g_2^h not real implemented\n",
        "def gen_keys(pp, n, sks, vec_v, assump_size):\n",
        "    k = assump_size\n",
        "    g2 = pp['g_2']\n",
        "\n",
        "    mus,h, _ = gen_mus(n, assump_size)\n",
        "    # mu_list = []\n",
        "    # for i in range(n):\n",
        "    #     mu_list.append(mus[str(i+1)])\n",
        "    # print (vrf_mus(mu_list, k))\n",
        "\n",
        "    K = {}\n",
        "\n",
        "    for i in range(n):\n",
        "        #pk = pks[str(i+1)]\n",
        "        sk = sks[str(i+1)]\n",
        "        v = vec_v[i]\n",
        "        mu = mus[str(i+1)]\n",
        "\n",
        "\n",
        "        X = sk['X']\n",
        "        tau = sk['tau']\n",
        "\n",
        "        tmp = mul_matrices(X, h)\n",
        "        #print (len(mu))\n",
        "        exponent = [x - v * y for x,y in zip(tau, tmp)]\n",
        "        exponent = [x + y for x,y in zip(exponent, mu)]\n",
        "    \n",
        "        K_i = []\n",
        "        #print (len(exponent))\n",
        "        for j in range(k+1):\n",
        "            K_i.append(g2 ** exponent[j])\n",
        "\n",
        "        K[str(i+1)] = K_i\n",
        "        print (len(h))\n",
        "        K['g_2^h'] = [g2 ** ele for ele in h]\n",
        "\n",
        "    return K\n"
      ]
    },
    {
      "cell_type": "code",
      "execution_count": 402,
      "metadata": {},
      "outputs": [
        {
          "name": "stdout",
          "output_type": "stream",
          "text": [
            "4\n",
            "4\n",
            "4\n",
            "4\n",
            "4\n"
          ]
        }
      ],
      "source": [
        "K = gen_keys(pp, 5, sks, vec_v, 3)"
      ]
    },
    {
      "cell_type": "markdown",
      "metadata": {
        "id": "RFKKxPEmsaDC"
      },
      "source": [
        "## Encryption\n",
        "\n",
        "\n",
        "\n"
      ]
    },
    {
      "cell_type": "code",
      "execution_count": 385,
      "metadata": {},
      "outputs": [],
      "source": [
        "def encrypt(pp, pks, vec_x, M, assump_size, groupObj = PairingGroup('MNT224')):\n",
        "    k = assump_size\n",
        "    group = groupObj\n",
        "    n = len(pks)\n",
        "\n",
        "    g = pp['g_1']\n",
        "    h = pp['g_2']\n",
        "    e_gh = pp['e_g1_g2']\n",
        "    g_A = pp['g_1^A']\n",
        "    g_UTA = pp['g_1^{U^T A}']\n",
        "\n",
        "    vec_s = []\n",
        "    for i in range(k):\n",
        "        vec_s.append(group.random(ZR))\n",
        "\n",
        "    #print (vec_x)\n",
        "\n",
        "    C_0 = []\n",
        "    for i in range(k):\n",
        "        C_0.append(g_A[i] ** vec_s[i])\n",
        "    C_0.append(g ** sum(vec_s))\n",
        "    #C_0 = power_mul(g_A, vec_s, type='vector')\n",
        "\n",
        "    C_i = []\n",
        "    for i in range(n):\n",
        "        g_XTA = pks[str(i+1)]['g_1^{X^T A}']\n",
        "        g_UTAs = power_mul(g_UTA, vec_s, type='m_vector')\n",
        "        \n",
        "        if vec_x[i] != 0:\n",
        "            tmp = power_mul(g_UTAs, vec_x[i], type = 'v_scalar')\n",
        "        else:\n",
        "            tmp = [1] * k\n",
        "            \n",
        "        tmp2 = power_mul(g_XTA, vec_s, type = 'm_vector')\n",
        "\n",
        "        C_i.append([x * y for x,y in zip(tmp, tmp2)])\n",
        "\n",
        "    C_ = M\n",
        "    #print (M)\n",
        "    for i in range(n):\n",
        "        e_gh_tauTA = pks[str(i+1)]['e(g_1,g_2)^{tau^T A}']\n",
        "        #print (e_gh_tauTA)\n",
        "        C_ = C_ * power_mul(e_gh_tauTA, vec_s, type = 'v_vector')\n",
        "\n",
        "    C = {'C_0': C_0, 'C_i': C_i, 'C':C_}\n",
        "    return C\n",
        "   "
      ]
    },
    {
      "cell_type": "code",
      "execution_count": 386,
      "metadata": {},
      "outputs": [],
      "source": [
        "M = group.random(GT)\n",
        "C = encrypt(pp, pks, vec_x, M, 3)"
      ]
    },
    {
      "cell_type": "code",
      "execution_count": 369,
      "metadata": {},
      "outputs": [
        {
          "data": {
            "text/plain": [
              "[1, 0, 0, 0, 1]"
            ]
          },
          "execution_count": 369,
          "metadata": {},
          "output_type": "execute_result"
        }
      ],
      "source": [
        "vec_v"
      ]
    },
    {
      "cell_type": "markdown",
      "metadata": {},
      "source": [
        "## Decryption"
      ]
    },
    {
      "cell_type": "code",
      "execution_count": 406,
      "metadata": {},
      "outputs": [],
      "source": [
        "def decrypt(K, C, vec_v, n, pp, groupObj = PairingGroup('MNT224')):\n",
        "    H = K['g_2^h']\n",
        "    group = groupObj\n",
        "\n",
        "    g1 = pp['g_1']\n",
        "    g2 = pp['g_2']\n",
        "\n",
        "    C_i_s = C['C_i']\n",
        "    C_0 = C['C_0']\n",
        "    ciphertext = C['C']\n",
        "\n",
        "    K_ = K['1']\n",
        "    C_ = C_i_s[-1]\n",
        "    #print (len(C_))\n",
        "    for i in range(1, n):\n",
        "        K_ = [x * y for x,y in zip(K_, K[str(i+1)])]\n",
        "\n",
        "        if vec_v[i-1]:\n",
        "            #print (len(C_i_s[i-1]))\n",
        "            C_ = [x * y for x,y in zip(C_, C_i_s[i-1])]\n",
        "\n",
        "    #print (len(H), len(C_))\n",
        "    e_gh_C_0 = [pair(x, y) for x,y in zip(C_0, K_)]\n",
        "    e_gh_C_i = [pair(x, y) for x,y in zip(C_, H)]\n",
        "\n",
        "    rst = e_gh_C_0[0] * e_gh_C_i[0]\n",
        "    #print (H, C_)\n",
        "    for i in range(1, len(e_gh_C_0)):\n",
        "        rst = rst * e_gh_C_0[i] * e_gh_C_i[i]\n",
        "\n",
        "    return ciphertext/rst\n",
        "    \n"
      ]
    },
    {
      "cell_type": "code",
      "execution_count": 407,
      "metadata": {
        "id": "1DMVtumhbHWD"
      },
      "outputs": [
        {
          "data": {
            "text/plain": [
              "[[2993799765281288685222546373452078618706162990777596621678711716105, 1607851912081250072525984143630868126916247151698500527148396098373, 60989482094717697947895609526244890603496055502819739287772465550], [4159580480854836472977928650814459289925283841309788915549638090477, 7176751260335659136548742338163164351093474329063409353621720127515, 3554199264974323890907984135130449796423420290021470854651997436288]]"
            ]
          },
          "execution_count": 407,
          "metadata": {},
          "output_type": "execute_result"
        }
      ],
      "source": [
        "decrypt(K, C, vec_v, 5, pp)"
      ]
    },
    {
      "cell_type": "code",
      "execution_count": 405,
      "metadata": {},
      "outputs": [
        {
          "data": {
            "text/plain": [
              "[[2993799765281288685222546373452078618706162990777596621678711716105, 1607851912081250072525984143630868126916247151698500527148396098373, 60989482094717697947895609526244890603496055502819739287772465550], [4159580480854836472977928650814459289925283841309788915549638090477, 7176751260335659136548742338163164351093474329063409353621720127515, 3554199264974323890907984135130449796423420290021470854651997436288]]"
            ]
          },
          "execution_count": 405,
          "metadata": {},
          "output_type": "execute_result"
        }
      ],
      "source": [
        "M"
      ]
    },
    {
      "cell_type": "markdown",
      "metadata": {},
      "source": [
        "## Rogue-key Attack"
      ]
    },
    {
      "cell_type": "code",
      "execution_count": null,
      "metadata": {
        "id": "IFjp3QSNuNdf"
      },
      "outputs": [],
      "source": [
        "import math\n",
        "def crack_policy(k):\n",
        "    pp, msk = setup(k)\n",
        "\n",
        "    g = pp['g_1']\n",
        "    h = pp['g_2']\n",
        "    e_gh = pp['e_g1_g2']\n",
        "    g_A = pp['g_1^A']\n",
        "\n",
        "    a = msk['a']\n",
        "    A = msk['A']\n",
        "\n",
        "    group = PairingGroup('MNT224')\n",
        "\n",
        "    shift = group.random(ZR)\n",
        "    U = [([0] * (k+1)) for i in range(k+1)]\n",
        "\n",
        "    for j1 in range(k + 1): #col\n",
        "        U[j1][j1] = shift\n",
        "\n",
        "    UTA = []\n",
        "    for j1 in range(k+1):\n",
        "        y = []\n",
        "        for j2 in range(k):\n",
        "            l = A[j2] * U[j2][j1]\n",
        "            r = U[k][j1]\n",
        "\n",
        "            y.append(l + r)\n",
        "        UTA.append(y)\n",
        "\n",
        "    #g_WTA_ = [[g**ele for ele in y] for y in WTA]\n",
        "    #print (g_WTA_)\n",
        "\n",
        "    '''\n",
        "    g_UTA = []\n",
        "    for j1 in range(k+1):\n",
        "        y = []\n",
        "        for j2 in range(k):\n",
        "            l = A[j2] * U[j2][j1]\n",
        "            r = U[k][j1]\n",
        "\n",
        "            y.append(g**(l + r))\n",
        "        g_UTA.append(y)\n",
        "    #print (g_WTA)\n",
        "    #return\n",
        "    '''\n",
        "    s = []\n",
        "    for i in range(k):\n",
        "        s.append(group.random(ZR))\n",
        "\n",
        "    As = []\n",
        "    for i in range(k):\n",
        "        As.append(A[i] * s[i])\n",
        "    As.append(sum(s))\n",
        "\n",
        "    #print ('s[2]?',A[2]*s[2]*a[2])\n",
        "    #print ('s[2]!', s[2])\n",
        "    #return\n",
        "\n",
        "    ret = []\n",
        "    for i in range(k+1):\n",
        "        ret.append(As[i] * a[i])\n",
        "    print ('As.dot(a):', ret)\n",
        "    print ('Sum(As.dot(a):', sum(ret))\n",
        "    #print (s)\n",
        "    #print (g ** sum())\n",
        "    #return sum(ret)\n",
        "\n",
        "    UTAs = []\n",
        "    for j1 in range(k+1): #row\n",
        "        y = 0\n",
        "        for j2 in range(k): #col\n",
        "            y += UTA[j1][j2] * s[j2]\n",
        "        UTAs.append(y)\n",
        "\n",
        "    ret = []\n",
        "    for i in range(k+1):\n",
        "        ret.append(UTAs[i] * a[i])\n",
        "\n",
        "    #print ([g**ele for ele in WTAs])\n",
        "    print ('UTAsT.dot(a):', ret)\n",
        "    print ('Sum(UTAsT.dot(a)):', sum(ret))\n",
        "\n",
        "#-----------------------------------------------------------------------------------------------\n",
        "    return\n",
        "\n",
        "    g_WTAs = []\n",
        "    for j1 in range(k+1):\n",
        "        y = []\n",
        "        for j2 in range(k):\n",
        "            y.append(g_WTA[j1][j2] ** s[j2])\n",
        "\n",
        "        g_WTAs.append(prod(y))\n",
        "\n",
        "    WTAsa = []\n",
        "    for i in range(k+1):\n",
        "        WTAsa.append(WTAs[i]*a[i])\n",
        "    return sum(WTAsa)\n",
        "\n",
        "    #print ('original g_WTAs:\\n',g_WTAs)\n",
        "    #return\n",
        "    tar = g_WTAs\n",
        "    #tar = [list(i) for i in zip(*tar)]\n",
        "    #print ('new g_WTAs:\\n', tar)\n",
        "\n",
        "    tmp = []\n",
        "    for i in range(k+1):\n",
        "        tmp.append(tar[i]**a[i])\n",
        "\n",
        "    result = prod(tmp)\n",
        "    print ('result: ', result)\n",
        "\n",
        "    res = []\n",
        "    tmp = g_A\n",
        "    tmp.append(g)\n",
        "    for i in range(k+1):\n",
        "        res.append(tmp[i] ** a[i])\n",
        "    res = prod(tmp)\n",
        "    print ('exp: ', res)\n",
        "    print ('g:', g)\n"
      ]
    },
    {
      "cell_type": "code",
      "execution_count": null,
      "metadata": {
        "colab": {
          "base_uri": "https://localhost:8080/"
        },
        "id": "SMIbnTgRp07J",
        "outputId": "f362b6ee-e795-4d59-f49f-a32c42cd3b2d"
      },
      "outputs": [
        {
          "data": {
            "text/plain": [
              "[[0, 0, 0, 0, 0, 0], [0, 0, 0, 0, 0, 0], [0, 0, 0, 0, 0, 0]]"
            ]
          },
          "execution_count": 12,
          "metadata": {},
          "output_type": "execute_result"
        }
      ],
      "source": [
        "rows, cols = 3,6\n",
        "[([0]*cols) for i in range(rows)]"
      ]
    },
    {
      "cell_type": "code",
      "execution_count": null,
      "metadata": {
        "colab": {
          "base_uri": "https://localhost:8080/"
        },
        "id": "JbSAAwDJ35Fc",
        "outputId": "9150504d-afae-449e-ab7a-d102a47b16ae"
      },
      "outputs": [
        {
          "name": "stdout",
          "output_type": "stream",
          "text": [
            "As.dot(a): [3470193020645640607344724949730565120811239487105599444988578077007, 10080473044863080624960124401806853022803967443970865425571396259264, 11815136366209015615763018985970022156110285290173523277865584051105, 6343650328129861115438351437281923546048591910893059984187662567089, 2804519339262100236653226564867150322678910282937391048080019165503, 10572426742845405197107073012658169889296769817296122737196383465095]\n",
            "Sum(As.dot(a): 0\n",
            "UTAsT.dot(a): [1923544615086348798531410976189326180923007696766120283915460729362, 9877480327369708214919117008396679989016282997414126587472793260333, 4650946474027341706285284075507646812530987047209781241406716109721, 13098970507006637555224173492010209844441697302799630828730484131695, 12581527808407055592801518597771553446937981558628221012458130818748, 2953929110058011529505015202439267783899807629558681963906038535204]\n",
            "Sum(UTAsT.dot(a)): 0\n"
          ]
        }
      ],
      "source": [
        "crack_policy(5)"
      ]
    },
    {
      "cell_type": "code",
      "execution_count": null,
      "metadata": {
        "id": "_6Dlrdsuy70N"
      },
      "outputs": [],
      "source": [
        " def prod(lst):\n",
        "    product = 1\n",
        "    for x in lst:\n",
        "        product *=x\n",
        "\n",
        "    return product"
      ]
    },
    {
      "cell_type": "code",
      "execution_count": null,
      "metadata": {
        "colab": {
          "base_uri": "https://localhost:8080/"
        },
        "id": "x-sL-apazMBT",
        "outputId": "9214f00a-3cbf-4904-d5eb-bd585d50f9e9"
      },
      "outputs": [
        {
          "data": {
            "text/plain": [
              "24"
            ]
          },
          "execution_count": 36,
          "metadata": {},
          "output_type": "execute_result"
        }
      ],
      "source": [
        "prod([1,2,3,4])"
      ]
    },
    {
      "cell_type": "code",
      "execution_count": null,
      "metadata": {
        "colab": {
          "base_uri": "https://localhost:8080/"
        },
        "id": "eaGmlYITydm3",
        "outputId": "3ee016d5-d11b-4626-d5a5-1fe35106dcbb"
      },
      "outputs": [
        {
          "name": "stdout",
          "output_type": "stream",
          "text": [
            "As.dot(a): [14663164353575075816327719368048573247152273705540011374512010645433, 9516080211722022715381010444262914147348628621661773310098874065326, 13487610684255280001199021200143815246293163375495768285735644136821, 9163734690656439233335184762858245197496774524839942563694152397078, 7094797723350440801648365639168695551695189636865884850308896838160, 6189810792380879295130724388604002020346989112098702172836586697266]\n",
            "Sum(As.dot(a): 0\n",
            "UTAsT.dot(a): [5568849997804693179504669245907905892691982579246269968970697264634, 7826273768162944467552447839019124423336179475170111330653993898112, 5844956724580098697035034744652737273946224667429164438341880583418, 3972830284449545755478498967375863713380371954505814489768184530568, 3169096499883841496676818788559157151804833727782922650741863355829, 3675591953088945335263543316028334250006917084116758400116462757481]\n",
            "Sum(UTAsT.dot(a)): 0\n"
          ]
        }
      ],
      "source": [
        "crack_policy(5)"
      ]
    },
    {
      "cell_type": "code",
      "execution_count": null,
      "metadata": {
        "colab": {
          "base_uri": "https://localhost:8080/"
        },
        "id": "YnA0SXd3ysYj",
        "outputId": "d85bcfc0-43cb-420b-89b6-57e7f377f2b2"
      },
      "outputs": [
        {
          "data": {
            "text/plain": [
              "[12370253121840854961011440556486136698821000374218479076824493569176, 9883798420876492190166395522046401287784061433558937541497147649293]"
            ]
          },
          "execution_count": 45,
          "metadata": {},
          "output_type": "execute_result"
        }
      ],
      "source": [
        "g"
      ]
    },
    {
      "cell_type": "code",
      "execution_count": null,
      "metadata": {
        "colab": {
          "base_uri": "https://localhost:8080/"
        },
        "id": "vxjAnQ0_ueho",
        "outputId": "1fde443e-881c-4779-e616-af66df2da24e"
      },
      "outputs": [
        {
          "data": {
            "text/plain": [
              "[O, O, O, O, O]"
            ]
          },
          "execution_count": 65,
          "metadata": {},
          "output_type": "execute_result"
        }
      ],
      "source": [
        "pp, msk = setup(5)\n",
        "e_gh = pp['e_g1_g2']\n",
        "a = msk['a']\n",
        "A = msk['A']\n",
        "g_A = pp['g_1^A']\n",
        "g = pp['g_1']\n",
        "\n",
        "\n",
        "ret = []\n",
        "for i in range(5):\n",
        "    ret.append(g_A[i]**a[i] * g ** a[5])\n",
        "ret"
      ]
    },
    {
      "cell_type": "code",
      "execution_count": null,
      "metadata": {
        "id": "xsLlNGQIpswb"
      },
      "outputs": [],
      "source": [
        "#n size of universal attributes\n",
        "def encrypt(pp, pks, n, x, msg, k, groupObj = PairingGroup('MNT224')):\n",
        "    group = groupObj\n",
        "\n",
        "    g = pp['g_1']\n",
        "    h = pp['g_2']\n",
        "    e_gh = pp['e_g1_g2']\n",
        "    g_A = pp['g_1^A']\n",
        "    g_UTA = pp['g_1^{U^T A}']\n",
        "\n",
        "    s = []\n",
        "    for i in range(k):\n",
        "        s.append(group.random(ZR))\n",
        "\n",
        "    xs = []\n",
        "    for i in range(n):\n",
        "        xs.append([x[i] * ele for ele in s])\n",
        "\n",
        "    C0 = []\n",
        "    for i in range(k):\n",
        "        C0.append(g_A[i] ** s[i])\n",
        "    C0.append(g**sum(s))\n",
        "\n",
        "    C1 = []\n",
        "\n",
        "\n",
        "\n",
        "    x = []\n",
        "    for i in range(n):\n"
      ]
    },
    {
      "cell_type": "code",
      "execution_count": null,
      "metadata": {
        "colab": {
          "base_uri": "https://localhost:8080/"
        },
        "id": "atOEl0TK9oJr",
        "outputId": "2c3c034d-fe94-4026-8cc3-b5ec523ba480"
      },
      "outputs": [
        {
          "name": "stdout",
          "output_type": "stream",
          "text": [
            "msg:  [[14590744609724053954243132720055950724167746956874546185919098238093, 7044598617208218796378413188130011989566854314370845990066843412294, 14616142705794054377368110643750255908550875532587478547715502303432], [10829564121571227711601234441501797991363085247925269634487679338788, 2507613797895301148510724870362602011775715126956769347290797383128, 354782065459314935909819536481523358787711415582566408311356045721]]\n",
            "ctext:  [[1806014638930345288307913923436173978155521575493455472602792815837, 13736497451236196346059719775405698948063459947769331176689647692483, 10074907065816467167707575577339237020532267558207735459286045928983], [2941538304991490030986972885344585527903748236961128644698028224275, 11158361292092928253861778997824034338570900747149389152150898981174, 6544250775863161195962549022632743468816373080547796882360799562899]]\n"
          ]
        }
      ],
      "source": [
        "g = group.random(G1)\n",
        "h = group.random(G2)\n",
        "s = group.random(ZR)\n",
        "msg = pairing_group.random(GT)\n",
        "print ('msg: ', msg)\n",
        "ctext = msg * pair(g, h)**5\n",
        "print ('ctext: ', ctext)"
      ]
    },
    {
      "cell_type": "code",
      "execution_count": null,
      "metadata": {
        "colab": {
          "base_uri": "https://localhost:8080/"
        },
        "id": "MS24h75eIlvB",
        "outputId": "3fd5a784-3709-4262-b979-149c6bb41a2d"
      },
      "outputs": [
        {
          "name": "stdout",
          "output_type": "stream",
          "text": [
            "t1:  [[1, 0, 0], [0, 0, 0]]\n",
            "t2:  [[10429219464470294457781921434836029054308356722107645896743812780795, 477147065968451196441085894986811611681142975101139268866625680387, 4328665428551831603791707415291487752222550890878022747872262509339], [8576466023134786858509856049677341857883022255569461387652751239012, 8662024698907056378232243465629603888080195409468495538674318644717, 12861408157509802975244696829216283378639950248109248669026773556813]]\n"
          ]
        }
      ],
      "source": [
        "p = group.random(ZR)\n",
        "a = group.random(ZR)\n",
        "t1 = pair(pair(g**p, h**a), h)\n",
        "t2 = pair(g**p, h**a)\n",
        "print ('t1: ', t1)\n",
        "print ('t2: ', t2)"
      ]
    },
    {
      "cell_type": "code",
      "execution_count": null,
      "metadata": {
        "colab": {
          "base_uri": "https://localhost:8080/"
        },
        "id": "ce3gv9cJLlbi",
        "outputId": "617ed8b9-467e-469b-8834-250bce52b69c"
      },
      "outputs": [
        {
          "data": {
            "text/plain": [
              "[[1, 0, 0], [0, 0, 0]]"
            ]
          },
          "execution_count": 15,
          "metadata": {},
          "output_type": "execute_result"
        }
      ],
      "source": [
        "ctext ** 0"
      ]
    },
    {
      "cell_type": "code",
      "execution_count": null,
      "metadata": {
        "colab": {
          "base_uri": "https://localhost:8080/"
        },
        "id": "s-GclscALleC",
        "outputId": "de6b2e5d-b61a-40e7-b3cb-303cf1dce668"
      },
      "outputs": [
        {
          "data": {
            "text/plain": [
              "[[3233876151552662863808257166469074151727419564594470806952727426786, 1977675586281160154039587388378873303894507086911133008955357627811, 10197494939872944424383326471184372308260205381927560960621721399251], [9780577947408549572662475597179255178089613744402102710208920284002, 408851198913964522235376317082092999652243040562955715762477590906, 3476129419762111705202598186903462609177730753974004489981865859661]]"
            ]
          },
          "execution_count": 9,
          "metadata": {},
          "output_type": "execute_result"
        }
      ],
      "source": [
        "tmp ** (1/s)"
      ]
    },
    {
      "cell_type": "code",
      "execution_count": null,
      "metadata": {
        "colab": {
          "base_uri": "https://localhost:8080/"
        },
        "id": "-t-jwHGpAoCR",
        "outputId": "199df8e3-c1e8-43a8-9ba0-3f4a5293614d"
      },
      "outputs": [
        {
          "data": {
            "text/plain": [
              "[[6206581856385479420601522786370681598527265848325182650886728356955, 7926720559979193195152877774997005683006222879661834436154516137424, 3074117153912630898205454418719569700910661257467954555634380037004], [3824458037668158322118133145800044484591026722224686780074825387633, 3724595522168987851809577091005966685092743429673442533550835346053, 6090663939188751273182568575395491936718718561050669393164489652630]]"
            ]
          },
          "execution_count": 9,
          "metadata": {},
          "output_type": "execute_result"
        }
      ],
      "source": [
        "x = []\n",
        "#j1: col, j2: row\n",
        "for j1 in range(assump_size + 1): #assump_size = k\n",
        "    y = []\n",
        "    for j2 in range(assump_size):\n",
        "        prod = (A[j2] * W[j2][j1]) + W[assump_size][j1] # simple version of mat * mat\n",
        "        y.append(g ** prod)\n",
        "    x.append(y)"
      ]
    },
    {
      "cell_type": "code",
      "execution_count": null,
      "metadata": {
        "id": "ksd4uyFLJ2bX"
      },
      "outputs": [],
      "source": [
        "class CGW15CPABE(ABEnc):\n",
        "    def __init__(self, groupObj, assump_size, uni_size, verbose=False):\n",
        "        ABEnc.__init__(self)\n",
        "        self.group = groupObj\n",
        "        self.assump_size = assump_size  # size of the linear assumption\n",
        "        self.uni_size = uni_size  # bound on the size of the universe of attributes\n",
        "        self.util = MSP(self.group, verbose)\n",
        "\n",
        "    def setup(self):\n",
        "        \"\"\"\n",
        "        Generates public key and master secret key.\n",
        "        \"\"\"\n",
        "\n",
        "        if debug:\n",
        "            print('Setup algorithm:\\n')\n",
        "\n",
        "        # generate two instances of the k-linear assumption\n",
        "        A = []\n",
        "        B = []\n",
        "        for i in range(self.assump_size):\n",
        "            A.append(self.group.random(ZR))\n",
        "            B.append(self.group.random(ZR))  # note that A, B are vectors here\n",
        "\n",
        "        # pick matrices that help to randomize basis\n",
        "        W = {}\n",
        "        for i in range(self.uni_size):\n",
        "            x = []\n",
        "            for j1 in range(self.assump_size + 1):\n",
        "                y = []\n",
        "                for j2 in range(self.assump_size + 1):\n",
        "                    y.append(self.group.random(ZR))\n",
        "                x.append(y)\n",
        "            W[i + 1] = x\n",
        "\n",
        "        V = []\n",
        "        for j1 in range(self.assump_size + 1):\n",
        "            y = []\n",
        "            for j2 in range(self.assump_size + 1):\n",
        "                y.append(self.group.random(ZR))\n",
        "            V.append(y)\n",
        "\n",
        "        # vector\n",
        "        k = []\n",
        "        for i in range(self.assump_size + 1):\n",
        "            k.append(self.group.random(ZR))\n",
        "\n",
        "        # pick a random element from the two source groups and pair them\n",
        "        g = self.group.random(G1)\n",
        "        h = self.group.random(G2)\n",
        "        e_gh = pair(g, h)\n",
        "\n",
        "        # now compute various parts of the public parameters\n",
        "\n",
        "        # compute the [A]_1 term\n",
        "        g_A = []\n",
        "        for i in range(self.assump_size):\n",
        "            g_A.append(g ** A[i])\n",
        "        g_A.append(g)\n",
        "\n",
        "        # compute the [W_1^T A]_1, [W_2^T A]_1, ...  terms\n",
        "        g_WA = {}\n",
        "        for i in range(self.uni_size):\n",
        "            x = []\n",
        "            for j1 in range(self.assump_size + 1):\n",
        "                y = []\n",
        "                for j2 in range(self.assump_size):\n",
        "                    prod = (A[j2] * W[i + 1][j2][j1]) + W[i + 1][self.assump_size][j1]\n",
        "                    y.append(g ** prod)\n",
        "                x.append(y)\n",
        "            g_WA[i + 1] = x\n",
        "\n",
        "        g_VA = []\n",
        "        for j1 in range(self.assump_size + 1):\n",
        "            y = []\n",
        "            for j2 in range(self.assump_size):\n",
        "                prod = (A[j2] * V[j2][j1]) + V[self.assump_size][j1]\n",
        "                y.append(g ** prod)\n",
        "            g_VA.append(y)\n",
        "\n",
        "        # compute the e([A]_1, [k]_2) term\n",
        "        h_k = []\n",
        "        for i in range(self.assump_size + 1):\n",
        "            h_k.append(h ** k[i])\n",
        "\n",
        "        e_gh_kA = []\n",
        "        for i in range(self.assump_size):\n",
        "            e_gh_kA.append(e_gh ** (k[i] * A[i] + k[self.assump_size]))\n",
        "\n",
        "        # the public key\n",
        "        pk = {'g_A': g_A, 'g_WA': g_WA, 'g_VA': g_VA, 'e_gh_kA': e_gh_kA}\n",
        "\n",
        "        # the master secret key\n",
        "        msk = {'h': h, 'k': k, 'B': B, 'W': W, 'V': V}\n",
        "\n",
        "        return pk, msk\n",
        "\n",
        "    def keygen(self, pk, msk, attr_list):\n",
        "        \"\"\"\n",
        "        Generate a key for a set of attributes.\n",
        "        \"\"\"\n",
        "\n",
        "        if debug:\n",
        "            print('Key generation algorithm:\\n')\n",
        "\n",
        "        # pick randomness\n",
        "        r = []\n",
        "        sum = 0\n",
        "        for i in range(self.assump_size):\n",
        "            rand = self.group.random(ZR)\n",
        "            r.append(rand)\n",
        "            sum += rand\n",
        "\n",
        "        # compute the [Br]_2 term\n",
        "        K_0 = []\n",
        "        Br = []\n",
        "        h = msk['h']\n",
        "        for i in range(self.assump_size):\n",
        "            prod = msk['B'][i] * r[i]\n",
        "            Br.append(prod)\n",
        "            K_0.append(h ** prod)\n",
        "        Br.append(sum)\n",
        "        K_0.append(h ** sum)\n",
        "\n",
        "        # compute the [W_i^T Br]_2 terms\n",
        "        K = {}\n",
        "        for attr in attr_list:\n",
        "            key = []\n",
        "            W_attr = msk['W'][int(attr)]\n",
        "            for j1 in range(self.assump_size + 1):\n",
        "                sum = 0\n",
        "                for j2 in range(self.assump_size + 1):\n",
        "                    sum += W_attr[j1][j2] * Br[j2]\n",
        "                key.append(h ** sum)\n",
        "            K[attr] = key\n",
        "\n",
        "        # compute the [k + VBr]_2 term\n",
        "        Kp = []\n",
        "        V = msk['V']\n",
        "        k = msk['k']\n",
        "        for j1 in range(self.assump_size + 1):\n",
        "            sum = 0\n",
        "            for j2 in range(self.assump_size + 1):\n",
        "                sum += V[j1][j2] * Br[j2]\n",
        "            Kp.append(h ** (k[j1] + sum))\n",
        "\n",
        "        return {'attr_list': attr_list, 'K_0': K_0, 'K': K, 'Kp': Kp}\n",
        "\n",
        "    def encrypt(self, pk, msg, policy_str):\n",
        "        \"\"\"\n",
        "        Encrypt a message M under a policy string.\n",
        "        \"\"\"\n",
        "\n",
        "        if debug:\n",
        "            print('Encryption algorithm:\\n')\n",
        "\n",
        "        policy = self.util.createPolicy(policy_str)\n",
        "        mono_span_prog = self.util.convert_policy_to_msp(policy)\n",
        "        num_cols = self.util.len_longest_row\n",
        "\n",
        "        # pick randomness\n",
        "        s = []\n",
        "        sum = 0\n",
        "        for i in range(self.assump_size):\n",
        "            rand = self.group.random(ZR)\n",
        "            s.append(rand)\n",
        "            sum += rand\n",
        "        s.append(sum)\n",
        "\n",
        "        # compute the [As]_1 term\n",
        "        g_As = []\n",
        "        g_A = pk['g_A']\n",
        "        for i in range(self.assump_size + 1):\n",
        "            g_As.append(g_A[i] ** s[i])\n",
        "\n",
        "        # compute U^T_2 As, U^T_3 As by picking random matrices U_2, U_3 ...\n",
        "        UAs = {}\n",
        "        for i in range(num_cols - 1):\n",
        "            x = []\n",
        "            for j1 in range(self.assump_size + 1):\n",
        "                prod = 1\n",
        "                for j2 in range(self.assump_size + 1):\n",
        "                    prod *= g_As[j2] ** (self.group.random(ZR))\n",
        "                x.append(prod)\n",
        "            UAs[i+1] = x\n",
        "\n",
        "        # compute V^T As using VA from public key\n",
        "        VAs = []\n",
        "        g_VA = pk['g_VA']\n",
        "        for j1 in range(self.assump_size + 1):\n",
        "            prod = 1\n",
        "            for j2 in range(self.assump_size):\n",
        "                prod *= g_VA[j1][j2] ** s[j2]\n",
        "            VAs.append(prod)\n",
        "\n",
        "        # compute the [(V^T As||U^T_2 As||...||U^T_cols As) M^T_i + W^T_i As]_1 terms\n",
        "        C = {}\n",
        "        g_WA = pk['g_WA']\n",
        "        for attr, row in mono_span_prog.items():\n",
        "            attr_stripped = self.util.strip_index(attr)  # no need, re-use not allowed\n",
        "            ct = []\n",
        "            for j1 in range(self.assump_size + 1):\n",
        "                cols = len(row)\n",
        "                prod1 = VAs[j1] ** row[0]\n",
        "                for j2 in range(1, cols):\n",
        "                    prod1 *= UAs[j2][j1] ** row[j2]\n",
        "                prod2 = 1\n",
        "                for j2 in range(self.assump_size):\n",
        "                    prod2 *= g_WA[int(attr_stripped)][j1][j2] ** s[j2]\n",
        "                ct.append(prod1 * prod2)\n",
        "            C[attr] = ct\n",
        "\n",
        "        # compute the e(g, h)^(k^T As) . m term\n",
        "        Cx = 1\n",
        "        for i in range(self.assump_size):\n",
        "            Cx = Cx * (pk['e_gh_kA'][i] ** s[i])\n",
        "        Cx = Cx * msg\n",
        "\n",
        "        return {'policy': policy, 'C_0': g_As, 'C': C, 'Cx': Cx}\n",
        "\n",
        "    def decrypt(self, pk, ctxt, key):\n",
        "        \"\"\"\n",
        "        Decrypt ciphertext ctxt with key key.\n",
        "        \"\"\"\n",
        "\n",
        "        if debug:\n",
        "            print('Decryption algorithm:\\n')\n",
        "\n",
        "        nodes = self.util.prune(ctxt['policy'], key['attr_list'])\n",
        "        if not nodes:\n",
        "            print (\"Policy not satisfied.\")\n",
        "            return None\n",
        "\n",
        "        prod1_GT = 1\n",
        "        prod2_GT = 1\n",
        "        for i in range(self.assump_size + 1):\n",
        "            prod_H = 1\n",
        "            prod_G = 1\n",
        "            for node in nodes:\n",
        "                attr = node.getAttributeAndIndex()\n",
        "                attr_stripped = self.util.strip_index(attr)  # no need, re-use not allowed\n",
        "                # prod_H *= D['K'][attr_stripped][i] ** coeff[attr]\n",
        "                # prod_G *= E['C'][attr][i] ** coeff[attr]\n",
        "                prod_H *= key['K'][attr_stripped][i]\n",
        "                prod_G *= ctxt['C'][attr][i]\n",
        "            prod1_GT *= pair(ctxt['C_0'][i], key['Kp'][i] * prod_H)\n",
        "            prod2_GT *= pair(prod_G, key['K_0'][i])\n",
        "\n",
        "        return ctxt['Cx'] * prod2_GT / prod1_GT\n"
      ]
    },
    {
      "cell_type": "code",
      "execution_count": null,
      "metadata": {
        "id": "k8KxMBwmK2E_"
      },
      "outputs": [],
      "source": [
        "class AC17CPABE(ABEnc):\n",
        "    def __init__(self, group_obj, assump_size, verbose=False):\n",
        "        ABEnc.__init__(self)\n",
        "        self.group = group_obj\n",
        "        self.assump_size = assump_size  # size of linear assumption, at least 2\n",
        "        self.util = MSP(self.group, verbose)\n",
        "\n",
        "    def setup(self):\n",
        "        \"\"\"\n",
        "        Generates public key and master secret key.\n",
        "        \"\"\"\n",
        "\n",
        "        if debug:\n",
        "            print('\\nSetup algorithm:\\n')\n",
        "\n",
        "        # generate two instances of the k-linear assumption\n",
        "        A = []\n",
        "        B = []\n",
        "        for i in range(self.assump_size):\n",
        "            A.append(self.group.random(ZR))\n",
        "            B.append(self.group.random(ZR))  # note that A, B are vectors here\n",
        "\n",
        "        # vector\n",
        "        k = []\n",
        "        for i in range(self.assump_size + 1):\n",
        "            k.append(self.group.random(ZR))\n",
        "\n",
        "        # pick a random element from the two source groups and pair them\n",
        "        g = self.group.random(G1)\n",
        "        h = self.group.random(G2)\n",
        "        e_gh = pair(g, h)\n",
        "\n",
        "        # now compute various parts of the public parameters\n",
        "\n",
        "        # compute the [A]_2 term\n",
        "        h_A = []\n",
        "        for i in range(self.assump_size):\n",
        "            h_A.append(h ** A[i])\n",
        "        h_A.append(h)\n",
        "\n",
        "        # compute the e([k]_1, [A]_2) term\n",
        "        g_k = []\n",
        "        for i in range(self.assump_size + 1):\n",
        "            g_k.append(g ** k[i])\n",
        "\n",
        "        e_gh_kA = []\n",
        "        for i in range(self.assump_size):\n",
        "            e_gh_kA.append(e_gh ** (k[i] * A[i] + k[self.assump_size]))\n",
        "\n",
        "        # the public key\n",
        "        pk = {'h_A': h_A, 'e_gh_kA': e_gh_kA}\n",
        "\n",
        "        # the master secret key\n",
        "        msk = {'g': g, 'h': h, 'g_k': g_k, 'A': A, 'B': B}\n",
        "\n",
        "        return pk, msk\n",
        "\n",
        "    def keygen(self, pk, msk, attr_list):\n",
        "        \"\"\"\n",
        "        Generate a key for a list of attributes.\n",
        "        \"\"\"\n",
        "\n",
        "        if debug:\n",
        "            print('\\nKey generation algorithm:\\n')\n",
        "\n",
        "        # pick randomness\n",
        "        r = []\n",
        "        sum = 0\n",
        "        for i in range(self.assump_size):\n",
        "            rand = self.group.random(ZR)\n",
        "            r.append(rand)\n",
        "            sum += rand\n",
        "\n",
        "        # compute the [Br]_2 term\n",
        "\n",
        "        # first compute just Br as it will be used later too\n",
        "        Br = []\n",
        "        for i in range(self.assump_size):\n",
        "            Br.append(msk['B'][i] * r[i])\n",
        "        Br.append(sum)\n",
        "\n",
        "        # now compute [Br]_2\n",
        "        K_0 = []\n",
        "        for i in range(self.assump_size + 1):\n",
        "            K_0.append(msk['h'] ** Br[i])\n",
        "\n",
        "        # compute [W_1 Br]_1, ...\n",
        "        K = {}\n",
        "        A = msk['A']\n",
        "        g = msk['g']\n",
        "        for attr in attr_list:\n",
        "            key = []\n",
        "            sigma_attr = self.group.random(ZR)\n",
        "            for t in range(self.assump_size):\n",
        "                prod = 1\n",
        "                a_t = A[t]\n",
        "                for l in range(self.assump_size + 1):\n",
        "                    input_for_hash = attr + str(l) + str(t)\n",
        "                    prod *= (self.group.hash(input_for_hash, G1) ** (Br[l]/a_t))\n",
        "                prod *= (g ** (sigma_attr/a_t))\n",
        "                key.append(prod)\n",
        "            key.append(g ** (-sigma_attr))\n",
        "            K[attr] = key\n",
        "\n",
        "        # compute [k + VBr]_1\n",
        "        Kp = []\n",
        "        g_k = msk['g_k']\n",
        "        sigma = self.group.random(ZR)\n",
        "        for t in range(self.assump_size):\n",
        "            prod = g_k[t]\n",
        "            a_t = A[t]\n",
        "            for l in range(self.assump_size + 1):\n",
        "                input_for_hash = '01' + str(l) + str(t)\n",
        "                prod *= (self.group.hash(input_for_hash, G1) ** (Br[l] / a_t))\n",
        "            prod *= (g ** (sigma / a_t))\n",
        "            Kp.append(prod)\n",
        "        Kp.append(g_k[self.assump_size] * (g ** (-sigma)))\n",
        "\n",
        "        return {'attr_list': attr_list, 'K_0': K_0, 'K': K, 'Kp': Kp}\n",
        "\n",
        "    def encrypt(self, pk, msg, policy_str):\n",
        "        \"\"\"\n",
        "        Encrypt a message msg under a policy string.\n",
        "        \"\"\"\n",
        "\n",
        "        if debug:\n",
        "            print('\\nEncryption algorithm:\\n')\n",
        "\n",
        "        policy = self.util.createPolicy(policy_str)\n",
        "        mono_span_prog = self.util.convert_policy_to_msp(policy)\n",
        "        num_cols = self.util.len_longest_row\n",
        "\n",
        "        # pick randomness\n",
        "        s = []\n",
        "        sum = 0\n",
        "        for i in range(self.assump_size):\n",
        "            rand = self.group.random(ZR)\n",
        "            s.append(rand)\n",
        "            sum += rand\n",
        "\n",
        "        # compute the [As]_2 term\n",
        "        C_0 = []\n",
        "        h_A = pk['h_A']\n",
        "        for i in range(self.assump_size):\n",
        "            C_0.append(h_A[i] ** s[i])\n",
        "        C_0.append(h_A[self.assump_size] ** sum)\n",
        "\n",
        "        # compute the [(V^T As||U^T_2 As||...) M^T_i + W^T_i As]_1 terms\n",
        "\n",
        "        # pre-compute hashes\n",
        "        hash_table = []\n",
        "        for j in range(num_cols):\n",
        "            x = []\n",
        "            input_for_hash1 = '0' + str(j + 1)\n",
        "            for l in range(self.assump_size + 1):\n",
        "                y = []\n",
        "                input_for_hash2 = input_for_hash1 + str(l)\n",
        "                for t in range(self.assump_size):\n",
        "                    input_for_hash3 = input_for_hash2 + str(t)\n",
        "                    hashed_value = self.group.hash(input_for_hash3, G1)\n",
        "                    y.append(hashed_value)\n",
        "                    # if debug: print ('Hash of', i+2, ',', j2, ',', j1, 'is', hashed_value)\n",
        "                x.append(y)\n",
        "            hash_table.append(x)\n",
        "\n",
        "        C = {}\n",
        "        for attr, row in mono_span_prog.items():\n",
        "            ct = []\n",
        "            attr_stripped = self.util.strip_index(attr)  # no need, re-use not allowed\n",
        "            for l in range(self.assump_size + 1):\n",
        "                prod = 1\n",
        "                cols = len(row)\n",
        "                for t in range(self.assump_size):\n",
        "                    input_for_hash = attr_stripped + str(l) + str(t)\n",
        "                    prod1 = self.group.hash(input_for_hash, G1)\n",
        "                    for j in range(cols):\n",
        "                        # input_for_hash = '0' + str(j+1) + str(l) + str(t)\n",
        "                        prod1 *= (hash_table[j][l][t] ** row[j])\n",
        "                    prod *= (prod1 ** s[t])\n",
        "                ct.append(prod)\n",
        "            C[attr] = ct\n",
        "\n",
        "        # compute the e(g, h)^(k^T As) . m term\n",
        "        Cp = 1\n",
        "        for i in range(self.assump_size):\n",
        "            Cp = Cp * (pk['e_gh_kA'][i] ** s[i])\n",
        "        Cp = Cp * msg\n",
        "\n",
        "        return {'policy': policy, 'C_0': C_0, 'C': C, 'Cp': Cp}\n",
        "\n",
        "    def decrypt(self, pk, ctxt, key):\n",
        "        \"\"\"\n",
        "        Decrypt ciphertext ctxt with key key.\n",
        "        \"\"\"\n",
        "\n",
        "        if debug:\n",
        "            print('\\nDecryption algorithm:\\n')\n",
        "\n",
        "        nodes = self.util.prune(ctxt['policy'], key['attr_list'])\n",
        "        if not nodes:\n",
        "            print (\"Policy not satisfied.\")\n",
        "            return None\n",
        "\n",
        "        prod1_GT = 1\n",
        "        prod2_GT = 1\n",
        "        for i in range(self.assump_size + 1):\n",
        "            prod_H = 1\n",
        "            prod_G = 1\n",
        "            for node in nodes:\n",
        "                attr = node.getAttributeAndIndex()\n",
        "                attr_stripped = self.util.strip_index(attr)  # no need, re-use not allowed\n",
        "                # prod_H *= key['K'][attr_stripped][i] ** coeff[attr]\n",
        "                # prod_G *= ctxt['C'][attr][i] ** coeff[attr]\n",
        "                prod_H *= key['K'][attr_stripped][i]\n",
        "                prod_G *= ctxt['C'][attr][i]\n",
        "            prod1_GT *= pair(key['Kp'][i] * prod_H, ctxt['C_0'][i])\n",
        "            prod2_GT *= pair(prod_G, key['K_0'][i])\n",
        "\n",
        "        return ctxt['Cp'] * prod2_GT / prod1_GT\n"
      ]
    },
    {
      "cell_type": "code",
      "execution_count": null,
      "metadata": {
        "colab": {
          "base_uri": "https://localhost:8080/"
        },
        "id": "N31tB4C-KQPk",
        "outputId": "9f7065be-db4f-4272-d41f-9c10054af67a"
      },
      "outputs": [
        {
          "name": "stdout",
          "output_type": "stream",
          "text": [
            "\n",
            "Setup algorithm:\n",
            "\n",
            "\n",
            "Key generation algorithm:\n",
            "\n",
            "msg: [[9782758510808858782463092981294579282847936674822051449404655841116, 526971871004176385871051263421858684642327246674972888667810985801, 1941428199729902338596099979674516259879064285681242342989698940354], [3179537818609894534007954240764538213233339768185552283569114911045, 7148980626112526615946304794263567977946052436147631840804066048209, 4980654066192165181579496144739565048230154769274513864394774903957]]\n",
            "\n",
            "Encryption algorithm:\n",
            "\n",
            "\n",
            "Decryption algorithm:\n",
            "\n",
            "Successful decryption.\n"
          ]
        }
      ],
      "source": [
        "from charm.toolbox.pairinggroup import PairingGroup, GT\n",
        "\n",
        "debug = True\n",
        "# instantiate a bilinear pairing map\n",
        "pairing_group = PairingGroup('MNT224')\n",
        "\n",
        "# AC17 CP-ABE under DLIN (2-linear)\n",
        "cpabe = AC17CPABE(pairing_group, 2,)\n",
        "\n",
        "# run the set up\n",
        "(pk, msk) = cpabe.setup()\n",
        "\n",
        "# generate a key\n",
        "attr_list = ['ONE', 'TWO', 'THREE']\n",
        "key = cpabe.keygen(pk, msk, attr_list)\n",
        "\n",
        "# choose a random message\n",
        "msg = pairing_group.random(GT)\n",
        "print ('msg:', msg)\n",
        "\n",
        "# generate a ciphertext\n",
        "policy_str = '((ONE and THREE) and (TWO OR FOUR))'\n",
        "ctxt = cpabe.encrypt(pk, msg, policy_str)\n",
        "\n",
        "# decryption\n",
        "rec_msg = cpabe.decrypt(pk, ctxt, key)\n",
        "if debug:\n",
        "    if rec_msg == msg:\n",
        "        print (\"Successful decryption.\")\n",
        "    else:\n",
        "        print (\"Decryption failed.\")"
      ]
    },
    {
      "cell_type": "code",
      "execution_count": null,
      "metadata": {
        "id": "NSpOAXsAKj78"
      },
      "outputs": [],
      "source": []
    }
  ],
  "metadata": {
    "colab": {
      "provenance": []
    },
    "kernelspec": {
      "display_name": "Python 3",
      "name": "python3"
    },
    "language_info": {
      "codemirror_mode": {
        "name": "ipython",
        "version": 3
      },
      "file_extension": ".py",
      "mimetype": "text/x-python",
      "name": "python",
      "nbconvert_exporter": "python",
      "pygments_lexer": "ipython3",
      "version": "3.10.12"
    }
  },
  "nbformat": 4,
  "nbformat_minor": 0
}
